{
  "nbformat": 4,
  "nbformat_minor": 0,
  "metadata": {
    "kernelspec": {
      "display_name": "Python 3",
      "language": "python",
      "name": "python3"
    },
    "language_info": {
      "codemirror_mode": {
        "name": "ipython",
        "version": 3
      },
      "file_extension": ".py",
      "mimetype": "text/x-python",
      "name": "python",
      "nbconvert_exporter": "python",
      "pygments_lexer": "ipython3",
      "version": "3.8.3"
    },
    "colab": {
      "name": "Tarasov_HW6.ipynb",
      "provenance": [],
      "collapsed_sections": []
    }
  },
  "cells": [
    {
      "cell_type": "markdown",
      "metadata": {
        "id": "oiPnmiNtnrl3"
      },
      "source": [
        "# Домашнее задание 6\n",
        "\n",
        "(прислать до 02:00 22.03.2020)\n",
        "\n",
        "Домашнее задание выполняется в этом же Jupyter Notebook'e и присылается мне в Piazza через Private Post.\n",
        "Файл с Вашим решением должен называться ```Surname_HW#```, где вместо ```Surname``` Вы пишите свою фамилию латиницей, а вместо ```#``` - номер домашнего задания. \n",
        "Решение каждой задачи необходимо поместить после её условия.\n",
        "\n",
        "Пожалуйста, пишите свои решения чётко и понятно. \n",
        "При полном запуске Вашего решения (Kernel -> Restart & Run All) все ячейки должны выполняться без ошибок. "
      ]
    },
    {
      "cell_type": "markdown",
      "metadata": {
        "id": "roWQ3j2qnrl9"
      },
      "source": [
        "## Задача 1 (11 pts)\n",
        "- (1 pts) Покажите, что преобразование DFP даёт положительно определённую оценку для гессиана $B_{k+1}$\n",
        "- (4 pts) Выведите (а не покажите, что формула справедлива!) формулу для $H_k$ в методе DFP\n",
        "- (4 pts) Реализуйте BFGS метод и сравните его сходимость с методом Ньютона и с ускоренным методом Нестерова \n",
        "    - (3 pts) для задачи минимизации функции Розенброка из $x_0 = (-1.2, 1)$. Рассмотрите зависимость скорости сходимости каждого метода от размерности задачи\n",
        "    - (1 pts) для задачи\n",
        "\n",
        "    $$\n",
        "    \\min_x \\log \\left( \\sum_{i=1}^m \\exp(a_i^{\\top}x + b_i)\\right).\n",
        "    $$\n",
        "\n",
        "- (2 pts) Сравните постоянный шаг и правило Армихо (условие достаточного убывания) для выбора шага $\\alpha_k$, всегда ли выполнялось условие $s^{\\top}_k y_k > 0$?"
      ]
    },
    {
      "cell_type": "markdown",
      "metadata": {
        "id": "ct4lHSPj1C-8"
      },
      "source": [
        "### Решение\n",
        "\n",
        "#### пункт 1\n",
        "\n",
        "Докажем по индукции.\n",
        "\n",
        "База очевидна.\n",
        "\n",
        "Пусть теперь $B_k$ положительно определена.\n",
        "\n",
        "Рассмотрим некоторый вектор $z \\in \\mathbb{R}^n$. \n",
        "\n",
        "$$\n",
        "z^{\\top}B_{k+1}z = z^{\\top}(I - \\rho_k y_k s^{\\top}_k)B_k(I - \\rho_k s_ky^{\\top}_k)z + \\rho_k z^{\\top} y_k y^{\\top}_kz\n",
        "$$\n",
        "\n",
        "Заметим, что $z^{\\top}(I - \\rho_k y_k s^{\\top}_k))^{\\top} = (I - \\rho_k y_k s^{\\top}_k)^{\\top}z = (I + (\\rho_k y_k s^{\\top}_k)^{\\top})z = (I - \\rho_k s_ky^{\\top}_k)z  $. Обозначим $(I - \\rho_k s_ky^{\\top}_k)z = z_2$. Тогда \n",
        "\n",
        "$$\n",
        "z^{\\top}B_{k+1}z = z_2^{\\top}B_kz_2 + \\rho_k \\| z^{\\top} y_k \\|^2_2 > 0\n",
        "$$\n",
        "\n",
        "Последнее неравенство получается в силу того что $B_k$ положительно определена, а также $\\rho_k >0$. \n",
        "\n",
        "Итак, $\\forall z \\in \\mathbb{R}\\ \\ \\ \\  z^{\\top}B_{k+1}z > 0 $. То есть, $B_{k+1}$ положтиельно определена."
      ]
    },
    {
      "cell_type": "markdown",
      "metadata": {
        "id": "xq4SRYPb7Bt0"
      },
      "source": [
        "#### Пункт 1\n",
        "\n",
        "Нам нужно вычислить обратную матрицу к $B_{k+1} = (I - \\rho_k y_k s^{\\top}_k)B_k(I - \\rho_k s_ky^{\\top}_k) + \\rho_k y_k y^{\\top}_k$.  Сделаем это, применив несколько раз формулу Шермана-Морисона-Вудбери. Для краткости будем писать названия матриц без индексов: $\n",
        "B_{k+1} = (I - \\rho y s^{\\top})B(I - \\rho sy^{\\top}) + \\rho y y^{\\top} = B - \\rho ys^{\\top}B-\\rho Bsy^{\\top}+\\rho ^2ys^{\\top}Bsy^{\\top}+\\rho yy^{\\top}\n",
        "$. Также, $B^{-1} = H$.\n",
        "\n",
        "1) $$(B+\\rho yy^{\\top} )^{-1} = B_1^{-1} = H - \\rho \\frac{Hyy^{\\top}H}{1+\\rho y^{\\top}Hy}$$\n",
        "\n",
        "2) $$(B+\\rho yy^{\\top} - \\rho ys^{\\top}B)^{-1} = (B_1 - \\rho ys^{\\top}B)^{-1} = B_2^{-1} =  B_1^{-1}+\\rho \\frac{B_1^{-1}ys^{\\top}BB_1^{-1}}{1-\\rho s^{\\top}BB_1^{-1}y}$$\n",
        "\n",
        "$$BB_1^{-1} = B\\left(H - \\rho \\frac{Hyy^{\\top}H}{1+\\rho y^{\\top}Hy}\\right) = I - \\rho \\frac{yy^{\\top}H}{1+\\rho y^{\\top}Hy}$$\n",
        "\n",
        "$$s^{\\top}BB_1^{-1} = s^{\\top} - \\frac{y^{\\top}H}{1+\\rho y^{\\top}Hy}$$\n",
        "\n",
        "$$1-\\rho s^{\\top}BB_1^{-1} y = 1 - (\\rho s^{\\top}y - \\rho \\frac{y^{\\top}Hy}{1+\\rho y^{\\top}Hy}) = \\rho \\frac{y^{\\top}Hy}{1+\\rho y^{\\top}Hy}$$\n",
        "\n",
        "Обозначим $h = y^{\\top}Hy$.\n",
        "\n",
        "$$B_1^{-1}ys^{\\top}BB_1^{-1} = \\left( H - \\rho \\frac{Hyy^{\\top}H}{1+\\rho y^{\\top}Hy} \\right) \\left(ys^{\\top} - \\frac{yy^{\\top}H}{1+\\rho y^{\\top}Hy} \\right)  = \\left( 1 - \\frac{\\rho h}{1+\\rho h} \\right) \\left( Hys^{\\top} - \\frac{Hyy^{\\top}H}{1+\\rho y^{\\top}Hy} \\right) = \\frac{Hy}{1+\\rho h}\\left( s^{\\top} - \\frac{y^{\\top} H}{1+\\rho h} \\right)$$\n",
        "\n",
        "$$\\rho \\frac{B_1^{-1}ys^{\\top}BB_1^{-1}}{1-\\rho s^{\\top}BB_1^{-1} y} = -\\frac{(1+\\rho h)}{h} \\frac{Hy}{1+\\rho h}\\left( s^{\\top} - \\frac{y^{\\top} H}{1+\\rho h} \\right)  $$\n",
        "\n",
        "$$B_2^{-1} = B_1^{-1} - \\frac{(1+\\rho h)}{h} \\frac{Hy}{1+\\rho h}\\left( s^{\\top} - \\frac{y^{\\top} H}{1+\\rho h} \\right) =$$\n",
        "\n",
        "$$= H - \\rho \\frac{Hyy^{\\top}H}{1+\\rho y^{\\top}Hy}  - \\frac{(1+\\rho h)}{h} \\frac{Hy}{1+\\rho h}\\left( s^{\\top} - \\frac{y^{\\top} H}{1+\\rho h} \\right) = H - \\frac{Hy}{h}\\left( s^{\\top} - y^{\\top}H \\right) $$\n",
        "\n",
        "Аналогичным образом с помощью Шермана, Морисона и Вудбери вычисляем матрицы $$B_3^{-1} = (B_2 - \\rho B sy^{\\top})^{-1} = H - \\rho \\frac{ss^{\\top}}{1+\\rho s^{\\top}Bs}$$ \n",
        "\n",
        "$$B_{k+1}^{-1} = (B_3 + \\rho ^2ys^{\\top}Bsy^{\\top})^{-1} =  H_k - \\dfrac{H_ky_k y_k^{\\top}H_k}{y^{\\top}_kH_ky_k} + \\dfrac{s_ks^{\\top}_k}{y^{\\top}_ks_k}\n",
        "$$"
      ]
    },
    {
      "cell_type": "markdown",
      "metadata": {
        "id": "HfDElJ94AZGt"
      },
      "source": [
        "#### Пункт 3"
      ]
    },
    {
      "cell_type": "code",
      "metadata": {
        "id": "nuTeKkM_nrmA"
      },
      "source": [
        "import numpy as np\n",
        "import liboptpy.unconstr_solvers as methods\n",
        "import liboptpy.step_size as ss\n",
        "\n",
        "import jax\n",
        "import jax.numpy as jnp\n",
        "from jax.config import config\n",
        "\n",
        "a = 1\n",
        "b = 100\n",
        "x0 = np.array([-1.2, 1])\n",
        "\n",
        "def f(w):\n",
        "    return (a - w[0])**2 + b * (w[1] - w[0]**2)**2\n",
        "grad_f = jax.jit(jax.grad(f))\n",
        "hess_f = jax.jit(jax.hessian(f))\n",
        "\n",
        "def Update_H(H, current_grad, prev_grad, x_next, x_current):\n",
        "    s = x_next - x_current\n",
        "    y = current_grad - prev_grad\n",
        "    rho = 1. / y.dot(s)\n",
        "    if H is None:\n",
        "        H = np.eye(x_current.shape[0]) / y.dot(y) / rho\n",
        "    Hy = H.dot(y)\n",
        "    Hys = np.outer(Hy, s)\n",
        "    ss = np.outer(s, s)\n",
        "    H = rho * ss + H - rho * Hys - rho * Hys.T + rho**2 * y.dot(Hy) * ss\n",
        "    return H\n",
        "\n",
        "def BFGS (f, grad_f, x0, eps, max_iter, step, disp=False, rho_sign=False):\n",
        "    x = x0\n",
        "    H = np.eye(len(x))\n",
        "    iter = 0\n",
        "    grad = grad_f(x)\n",
        "    #grad_list = []\n",
        "    while True:\n",
        "        h = -H.dot(grad)\n",
        "        step.assign_function(f, grad_f, lambda x, alpha, h: x + alpha * h)\n",
        "        alpha = step.get_stepsize(h, x, iter)\n",
        "        next_grad = grad_f(x + alpha * h)\n",
        "        H = Update_H(H, next_grad, grad, x + alpha * h, x)\n",
        "        if rho_sign and np.dot(next_grad - grad, alpha * h) <= 0:\n",
        "            print(\"rho is less than 0 on iteration\", iter)\n",
        "        x = x + alpha * h\n",
        "        norm = np.linalg.norm(grad)\n",
        "        grad = next_grad\n",
        "        #grad_list.append(norm)\n",
        "        if disp:\n",
        "            print(norm)\n",
        "        if (norm < eps or iter > max_iter):\n",
        "            break\n",
        "        iter += 1\n",
        "    return (x, iter, norm)\n"
      ],
      "execution_count": 44,
      "outputs": []
    },
    {
      "cell_type": "markdown",
      "metadata": {
        "id": "f3hVNy-yAJZN"
      },
      "source": [
        "Запустим метод Ньютона и BFGS с выбором шага по правилу Вольфа и с постоянным шагом. "
      ]
    },
    {
      "cell_type": "code",
      "metadata": {
        "colab": {
          "base_uri": "https://localhost:8080/",
          "height": 589
        },
        "id": "PDD2izAGgW_R",
        "outputId": "0e788cf9-848b-4ac4-a92e-fa32d3806b2e"
      },
      "source": [
        "newton = methods.so.NewtonMethod(f, grad_f, hess_f,\n",
        "                                 ss.Backtracking(\"Armijo\", rho=0.4, beta=0.1, init_alpha=1.),\n",
        "                                linsolver=jnp.linalg.solve)\n",
        "# newton = methods.so.NewtonMethod(f, grad_f, hess_f, ss.ConstantStepSize(5e-1))\n",
        "x_newton = newton.solve(x0, tol=1e-7, max_iter=50, disp=True)\n",
        "print(\"\")\n",
        "\n",
        "x, iter, norm = BFGS(f, grad_f, x0, 1e-7, 5000, ss.Backtracking(\"Wolfe\", rho=0.5, beta1=1e-3, beta2=0.9, init_alpha=1.))\n",
        "print(\"Метод BFGS с правилом Вольфа выбора шага\")\n",
        "print(\"Количество итераций:\", iter)\n",
        "print(\"Норма градиента:\", norm)\n",
        "print(\"х =\", x)\n",
        "print(\"Значение функции:\", f(x), '\\n')\n",
        "\n",
        "x, iter, norm = BFGS(f, grad_f, x0, 1e-7, 5000, ss.ConstantStepSize(1e-3))\n",
        "print(\"Метод BFGS с постоянным шагом\")\n",
        "print(\"Количество итераций:\", iter)\n",
        "print(\"Норма градиента:\", norm)\n",
        "print(\"х =\", x)\n",
        "print(\"Значение функции:\", f(x))"
      ],
      "execution_count": 26,
      "outputs": [
        {
          "output_type": "stream",
          "text": [
            "Required tolerance achieved!\n",
            "Convergence in 21 iterations\n",
            "Function value = 2.4528510178244796e-21\n",
            "Norm of gradient = 2.1606802684043634e-09\n",
            "\n",
            "Метод BFGS с правилом Вольфа выбора шага\n",
            "Количество итераций: 34\n",
            "Норма градиента: 8.834619774989554e-08\n",
            "х = [1. 1.]\n",
            "Значение функции: 7.664560722213772e-25 \n",
            "\n"
          ],
          "name": "stdout"
        },
        {
          "output_type": "error",
          "ename": "KeyboardInterrupt",
          "evalue": "ignored",
          "traceback": [
            "\u001b[0;31m---------------------------------------------------------------------------\u001b[0m",
            "\u001b[0;31mKeyboardInterrupt\u001b[0m                         Traceback (most recent call last)",
            "\u001b[0;32m<ipython-input-26-280b516ebb92>\u001b[0m in \u001b[0;36m<module>\u001b[0;34m()\u001b[0m\n\u001b[1;32m     13\u001b[0m \u001b[0mprint\u001b[0m\u001b[0;34m(\u001b[0m\u001b[0;34m\"Значение функции:\"\u001b[0m\u001b[0;34m,\u001b[0m \u001b[0mf\u001b[0m\u001b[0;34m(\u001b[0m\u001b[0mx\u001b[0m\u001b[0;34m)\u001b[0m\u001b[0;34m,\u001b[0m \u001b[0;34m'\\n'\u001b[0m\u001b[0;34m)\u001b[0m\u001b[0;34m\u001b[0m\u001b[0;34m\u001b[0m\u001b[0m\n\u001b[1;32m     14\u001b[0m \u001b[0;34m\u001b[0m\u001b[0m\n\u001b[0;32m---> 15\u001b[0;31m \u001b[0mx\u001b[0m\u001b[0;34m,\u001b[0m \u001b[0miter\u001b[0m\u001b[0;34m,\u001b[0m \u001b[0mnorm\u001b[0m \u001b[0;34m=\u001b[0m \u001b[0mBFGS\u001b[0m\u001b[0;34m(\u001b[0m\u001b[0mf\u001b[0m\u001b[0;34m,\u001b[0m \u001b[0mgrad_f\u001b[0m\u001b[0;34m,\u001b[0m \u001b[0mx0\u001b[0m\u001b[0;34m,\u001b[0m \u001b[0;36m1e-7\u001b[0m\u001b[0;34m,\u001b[0m \u001b[0;36m5000\u001b[0m\u001b[0;34m,\u001b[0m \u001b[0mss\u001b[0m\u001b[0;34m.\u001b[0m\u001b[0mConstantStepSize\u001b[0m\u001b[0;34m(\u001b[0m\u001b[0;36m1e-3\u001b[0m\u001b[0;34m)\u001b[0m\u001b[0;34m)\u001b[0m\u001b[0;34m\u001b[0m\u001b[0;34m\u001b[0m\u001b[0m\n\u001b[0m\u001b[1;32m     16\u001b[0m \u001b[0mprint\u001b[0m\u001b[0;34m(\u001b[0m\u001b[0;34m\"Метод BFGS с постоянным шагом\"\u001b[0m\u001b[0;34m)\u001b[0m\u001b[0;34m\u001b[0m\u001b[0;34m\u001b[0m\u001b[0m\n\u001b[1;32m     17\u001b[0m \u001b[0mprint\u001b[0m\u001b[0;34m(\u001b[0m\u001b[0;34m\"Количество итераций:\"\u001b[0m\u001b[0;34m,\u001b[0m \u001b[0miter\u001b[0m\u001b[0;34m)\u001b[0m\u001b[0;34m\u001b[0m\u001b[0;34m\u001b[0m\u001b[0m\n",
            "\u001b[0;32m<ipython-input-25-d8179b75be03>\u001b[0m in \u001b[0;36mBFGS\u001b[0;34m(f, grad_f, x0, eps, max_iter, step, disp, rho_sign)\u001b[0m\n\u001b[1;32m     39\u001b[0m         \u001b[0malpha\u001b[0m \u001b[0;34m=\u001b[0m \u001b[0mstep\u001b[0m\u001b[0;34m.\u001b[0m\u001b[0mget_stepsize\u001b[0m\u001b[0;34m(\u001b[0m\u001b[0mh\u001b[0m\u001b[0;34m,\u001b[0m \u001b[0mx\u001b[0m\u001b[0;34m,\u001b[0m \u001b[0miter\u001b[0m\u001b[0;34m)\u001b[0m\u001b[0;34m\u001b[0m\u001b[0;34m\u001b[0m\u001b[0m\n\u001b[1;32m     40\u001b[0m         \u001b[0mnext_grad\u001b[0m \u001b[0;34m=\u001b[0m \u001b[0mgrad_f\u001b[0m\u001b[0;34m(\u001b[0m\u001b[0mx\u001b[0m \u001b[0;34m+\u001b[0m \u001b[0malpha\u001b[0m \u001b[0;34m*\u001b[0m \u001b[0mh\u001b[0m\u001b[0;34m)\u001b[0m\u001b[0;34m\u001b[0m\u001b[0;34m\u001b[0m\u001b[0m\n\u001b[0;32m---> 41\u001b[0;31m         \u001b[0mH\u001b[0m \u001b[0;34m=\u001b[0m \u001b[0mUpdate_H\u001b[0m\u001b[0;34m(\u001b[0m\u001b[0mH\u001b[0m\u001b[0;34m,\u001b[0m \u001b[0mnext_grad\u001b[0m\u001b[0;34m,\u001b[0m \u001b[0mgrad\u001b[0m\u001b[0;34m,\u001b[0m \u001b[0mx\u001b[0m \u001b[0;34m+\u001b[0m \u001b[0malpha\u001b[0m \u001b[0;34m*\u001b[0m \u001b[0mh\u001b[0m\u001b[0;34m,\u001b[0m \u001b[0mx\u001b[0m\u001b[0;34m)\u001b[0m\u001b[0;34m\u001b[0m\u001b[0;34m\u001b[0m\u001b[0m\n\u001b[0m\u001b[1;32m     42\u001b[0m         \u001b[0;32mif\u001b[0m \u001b[0mrho_sign\u001b[0m \u001b[0;32mand\u001b[0m \u001b[0mnp\u001b[0m\u001b[0;34m.\u001b[0m\u001b[0mdot\u001b[0m\u001b[0;34m(\u001b[0m\u001b[0mnext_grad\u001b[0m \u001b[0;34m-\u001b[0m \u001b[0mgrad\u001b[0m\u001b[0;34m,\u001b[0m \u001b[0malpha\u001b[0m \u001b[0;34m*\u001b[0m \u001b[0mh\u001b[0m\u001b[0;34m)\u001b[0m \u001b[0;34m<=\u001b[0m \u001b[0;36m0\u001b[0m\u001b[0;34m:\u001b[0m\u001b[0;34m\u001b[0m\u001b[0;34m\u001b[0m\u001b[0m\n\u001b[1;32m     43\u001b[0m             \u001b[0mprint\u001b[0m\u001b[0;34m(\u001b[0m\u001b[0;34m\"rho is less than 0 on iteration\"\u001b[0m\u001b[0;34m,\u001b[0m \u001b[0miter\u001b[0m\u001b[0;34m)\u001b[0m\u001b[0;34m\u001b[0m\u001b[0;34m\u001b[0m\u001b[0m\n",
            "\u001b[0;32m<ipython-input-25-d8179b75be03>\u001b[0m in \u001b[0;36mUpdate_H\u001b[0;34m(H, current_grad, prev_grad, x_next, x_current)\u001b[0m\n\u001b[1;32m     23\u001b[0m         \u001b[0mH\u001b[0m \u001b[0;34m=\u001b[0m \u001b[0mnp\u001b[0m\u001b[0;34m.\u001b[0m\u001b[0meye\u001b[0m\u001b[0;34m(\u001b[0m\u001b[0mx_current\u001b[0m\u001b[0;34m.\u001b[0m\u001b[0mshape\u001b[0m\u001b[0;34m[\u001b[0m\u001b[0;36m0\u001b[0m\u001b[0;34m]\u001b[0m\u001b[0;34m)\u001b[0m \u001b[0;34m/\u001b[0m \u001b[0my\u001b[0m\u001b[0;34m.\u001b[0m\u001b[0mdot\u001b[0m\u001b[0;34m(\u001b[0m\u001b[0my\u001b[0m\u001b[0;34m)\u001b[0m \u001b[0;34m/\u001b[0m \u001b[0mrho\u001b[0m\u001b[0;34m\u001b[0m\u001b[0;34m\u001b[0m\u001b[0m\n\u001b[1;32m     24\u001b[0m     \u001b[0mHy\u001b[0m \u001b[0;34m=\u001b[0m \u001b[0mH\u001b[0m\u001b[0;34m.\u001b[0m\u001b[0mdot\u001b[0m\u001b[0;34m(\u001b[0m\u001b[0my\u001b[0m\u001b[0;34m)\u001b[0m\u001b[0;34m\u001b[0m\u001b[0;34m\u001b[0m\u001b[0m\n\u001b[0;32m---> 25\u001b[0;31m     \u001b[0mHys\u001b[0m \u001b[0;34m=\u001b[0m \u001b[0mnp\u001b[0m\u001b[0;34m.\u001b[0m\u001b[0mouter\u001b[0m\u001b[0;34m(\u001b[0m\u001b[0mHy\u001b[0m\u001b[0;34m,\u001b[0m \u001b[0ms\u001b[0m\u001b[0;34m)\u001b[0m\u001b[0;34m\u001b[0m\u001b[0;34m\u001b[0m\u001b[0m\n\u001b[0m\u001b[1;32m     26\u001b[0m     \u001b[0mss\u001b[0m \u001b[0;34m=\u001b[0m \u001b[0mnp\u001b[0m\u001b[0;34m.\u001b[0m\u001b[0mouter\u001b[0m\u001b[0;34m(\u001b[0m\u001b[0ms\u001b[0m\u001b[0;34m,\u001b[0m \u001b[0ms\u001b[0m\u001b[0;34m)\u001b[0m\u001b[0;34m\u001b[0m\u001b[0;34m\u001b[0m\u001b[0m\n\u001b[1;32m     27\u001b[0m     \u001b[0mH\u001b[0m \u001b[0;34m=\u001b[0m \u001b[0mrho\u001b[0m \u001b[0;34m*\u001b[0m \u001b[0mss\u001b[0m \u001b[0;34m+\u001b[0m \u001b[0mH\u001b[0m \u001b[0;34m-\u001b[0m \u001b[0mrho\u001b[0m \u001b[0;34m*\u001b[0m \u001b[0mHys\u001b[0m \u001b[0;34m-\u001b[0m \u001b[0mrho\u001b[0m \u001b[0;34m*\u001b[0m \u001b[0mHys\u001b[0m\u001b[0;34m.\u001b[0m\u001b[0mT\u001b[0m \u001b[0;34m+\u001b[0m \u001b[0mrho\u001b[0m\u001b[0;34m**\u001b[0m\u001b[0;36m2\u001b[0m \u001b[0;34m*\u001b[0m \u001b[0my\u001b[0m\u001b[0;34m.\u001b[0m\u001b[0mdot\u001b[0m\u001b[0;34m(\u001b[0m\u001b[0mHy\u001b[0m\u001b[0;34m)\u001b[0m \u001b[0;34m*\u001b[0m \u001b[0mss\u001b[0m\u001b[0;34m\u001b[0m\u001b[0;34m\u001b[0m\u001b[0m\n",
            "\u001b[0;32m<__array_function__ internals>\u001b[0m in \u001b[0;36mouter\u001b[0;34m(*args, **kwargs)\u001b[0m\n",
            "\u001b[0;32m/usr/local/lib/python3.7/dist-packages/numpy/core/numeric.py\u001b[0m in \u001b[0;36mouter\u001b[0;34m(a, b, out)\u001b[0m\n\u001b[1;32m    905\u001b[0m \u001b[0;34m\u001b[0m\u001b[0m\n\u001b[1;32m    906\u001b[0m     \"\"\"\n\u001b[0;32m--> 907\u001b[0;31m     \u001b[0ma\u001b[0m \u001b[0;34m=\u001b[0m \u001b[0masarray\u001b[0m\u001b[0;34m(\u001b[0m\u001b[0ma\u001b[0m\u001b[0;34m)\u001b[0m\u001b[0;34m\u001b[0m\u001b[0;34m\u001b[0m\u001b[0m\n\u001b[0m\u001b[1;32m    908\u001b[0m     \u001b[0mb\u001b[0m \u001b[0;34m=\u001b[0m \u001b[0masarray\u001b[0m\u001b[0;34m(\u001b[0m\u001b[0mb\u001b[0m\u001b[0;34m)\u001b[0m\u001b[0;34m\u001b[0m\u001b[0;34m\u001b[0m\u001b[0m\n\u001b[1;32m    909\u001b[0m     \u001b[0;32mreturn\u001b[0m \u001b[0mmultiply\u001b[0m\u001b[0;34m(\u001b[0m\u001b[0ma\u001b[0m\u001b[0;34m.\u001b[0m\u001b[0mravel\u001b[0m\u001b[0;34m(\u001b[0m\u001b[0;34m)\u001b[0m\u001b[0;34m[\u001b[0m\u001b[0;34m:\u001b[0m\u001b[0;34m,\u001b[0m \u001b[0mnewaxis\u001b[0m\u001b[0;34m]\u001b[0m\u001b[0;34m,\u001b[0m \u001b[0mb\u001b[0m\u001b[0;34m.\u001b[0m\u001b[0mravel\u001b[0m\u001b[0;34m(\u001b[0m\u001b[0;34m)\u001b[0m\u001b[0;34m[\u001b[0m\u001b[0mnewaxis\u001b[0m\u001b[0;34m,\u001b[0m \u001b[0;34m:\u001b[0m\u001b[0;34m]\u001b[0m\u001b[0;34m,\u001b[0m \u001b[0mout\u001b[0m\u001b[0;34m)\u001b[0m\u001b[0;34m\u001b[0m\u001b[0;34m\u001b[0m\u001b[0m\n",
            "\u001b[0;32m/usr/local/lib/python3.7/dist-packages/numpy/core/_asarray.py\u001b[0m in \u001b[0;36masarray\u001b[0;34m(a, dtype, order)\u001b[0m\n\u001b[1;32m     81\u001b[0m \u001b[0;34m\u001b[0m\u001b[0m\n\u001b[1;32m     82\u001b[0m     \"\"\"\n\u001b[0;32m---> 83\u001b[0;31m     \u001b[0;32mreturn\u001b[0m \u001b[0marray\u001b[0m\u001b[0;34m(\u001b[0m\u001b[0ma\u001b[0m\u001b[0;34m,\u001b[0m \u001b[0mdtype\u001b[0m\u001b[0;34m,\u001b[0m \u001b[0mcopy\u001b[0m\u001b[0;34m=\u001b[0m\u001b[0;32mFalse\u001b[0m\u001b[0;34m,\u001b[0m \u001b[0morder\u001b[0m\u001b[0;34m=\u001b[0m\u001b[0morder\u001b[0m\u001b[0;34m)\u001b[0m\u001b[0;34m\u001b[0m\u001b[0;34m\u001b[0m\u001b[0m\n\u001b[0m\u001b[1;32m     84\u001b[0m \u001b[0;34m\u001b[0m\u001b[0m\n\u001b[1;32m     85\u001b[0m \u001b[0;34m\u001b[0m\u001b[0m\n",
            "\u001b[0;32m/usr/local/lib/python3.7/dist-packages/jax/interpreters/xla.py\u001b[0m in \u001b[0;36m__array__\u001b[0;34m(self, dtype, context)\u001b[0m\n\u001b[1;32m   1238\u001b[0m \u001b[0;34m\u001b[0m\u001b[0m\n\u001b[1;32m   1239\u001b[0m   \u001b[0;32mdef\u001b[0m \u001b[0m__array__\u001b[0m\u001b[0;34m(\u001b[0m\u001b[0mself\u001b[0m\u001b[0;34m,\u001b[0m \u001b[0mdtype\u001b[0m\u001b[0;34m=\u001b[0m\u001b[0;32mNone\u001b[0m\u001b[0;34m,\u001b[0m \u001b[0mcontext\u001b[0m\u001b[0;34m=\u001b[0m\u001b[0;32mNone\u001b[0m\u001b[0;34m)\u001b[0m\u001b[0;34m:\u001b[0m\u001b[0;34m\u001b[0m\u001b[0;34m\u001b[0m\u001b[0m\n\u001b[0;32m-> 1240\u001b[0;31m     \u001b[0;32mreturn\u001b[0m \u001b[0mnp\u001b[0m\u001b[0;34m.\u001b[0m\u001b[0masarray\u001b[0m\u001b[0;34m(\u001b[0m\u001b[0mself\u001b[0m\u001b[0;34m.\u001b[0m\u001b[0m_value\u001b[0m\u001b[0;34m,\u001b[0m \u001b[0mdtype\u001b[0m\u001b[0;34m=\u001b[0m\u001b[0mdtype\u001b[0m\u001b[0;34m)\u001b[0m\u001b[0;34m\u001b[0m\u001b[0;34m\u001b[0m\u001b[0m\n\u001b[0m\u001b[1;32m   1241\u001b[0m \u001b[0;34m\u001b[0m\u001b[0m\n\u001b[1;32m   1242\u001b[0m   \u001b[0msetattr\u001b[0m\u001b[0;34m(\u001b[0m\u001b[0mdevice_array\u001b[0m\u001b[0;34m,\u001b[0m \u001b[0;34m\"__array__\"\u001b[0m\u001b[0;34m,\u001b[0m \u001b[0m__array__\u001b[0m\u001b[0;34m)\u001b[0m\u001b[0;34m\u001b[0m\u001b[0;34m\u001b[0m\u001b[0m\n",
            "\u001b[0;32m/usr/local/lib/python3.7/dist-packages/jax/interpreters/xla.py\u001b[0m in \u001b[0;36m_value\u001b[0;34m(self)\u001b[0m\n\u001b[1;32m   1120\u001b[0m     \u001b[0mself\u001b[0m\u001b[0;34m.\u001b[0m\u001b[0m_check_if_deleted\u001b[0m\u001b[0;34m(\u001b[0m\u001b[0;34m)\u001b[0m\u001b[0;34m\u001b[0m\u001b[0;34m\u001b[0m\u001b[0m\n\u001b[1;32m   1121\u001b[0m     \u001b[0;32mif\u001b[0m \u001b[0mself\u001b[0m\u001b[0;34m.\u001b[0m\u001b[0m_npy_value\u001b[0m \u001b[0;32mis\u001b[0m \u001b[0;32mNone\u001b[0m\u001b[0;34m:\u001b[0m\u001b[0;34m\u001b[0m\u001b[0;34m\u001b[0m\u001b[0m\n\u001b[0;32m-> 1122\u001b[0;31m       \u001b[0mself\u001b[0m\u001b[0;34m.\u001b[0m\u001b[0m_npy_value\u001b[0m \u001b[0;34m=\u001b[0m \u001b[0m_force\u001b[0m\u001b[0;34m(\u001b[0m\u001b[0mself\u001b[0m\u001b[0;34m)\u001b[0m\u001b[0;34m.\u001b[0m\u001b[0mdevice_buffer\u001b[0m\u001b[0;34m.\u001b[0m\u001b[0mto_py\u001b[0m\u001b[0;34m(\u001b[0m\u001b[0;34m)\u001b[0m\u001b[0;34m\u001b[0m\u001b[0;34m\u001b[0m\u001b[0m\n\u001b[0m\u001b[1;32m   1123\u001b[0m       \u001b[0mself\u001b[0m\u001b[0;34m.\u001b[0m\u001b[0m_npy_value\u001b[0m\u001b[0;34m.\u001b[0m\u001b[0mflags\u001b[0m\u001b[0;34m.\u001b[0m\u001b[0mwriteable\u001b[0m \u001b[0;34m=\u001b[0m \u001b[0;32mFalse\u001b[0m\u001b[0;34m\u001b[0m\u001b[0;34m\u001b[0m\u001b[0m\n\u001b[1;32m   1124\u001b[0m     \u001b[0;32mreturn\u001b[0m \u001b[0mself\u001b[0m\u001b[0;34m.\u001b[0m\u001b[0m_npy_value\u001b[0m\u001b[0;34m\u001b[0m\u001b[0;34m\u001b[0m\u001b[0m\n",
            "\u001b[0;31mKeyboardInterrupt\u001b[0m: "
          ]
        }
      ]
    },
    {
      "cell_type": "markdown",
      "metadata": {
        "id": "krhLPV7CA150"
      },
      "source": [
        "Я пробовал разные значения $\\alpha$ в методк с постоянным шагом. Это значение $\\alpha = 10^{-3}$ для которого норма градиента меньше всех опробованных. Как видим, метод с постоянным шагом сходится очень медленно.\n",
        "\n",
        "Запустим теперь этот метод с выбором длины шага по правилу Армихо. "
      ]
    },
    {
      "cell_type": "code",
      "metadata": {
        "colab": {
          "base_uri": "https://localhost:8080/",
          "height": 942
        },
        "id": "Wq-XkHY3xXpA",
        "outputId": "5114dcaf-5452-418c-f3ac-62e16c359e97"
      },
      "source": [
        "x, iter, norm = BFGS(f, grad_f, x0, 1e-12, 5000, ss.Backtracking(\"Armijo\", rho=0.4, beta=0.1, init_alpha=1.), disp=True)"
      ],
      "execution_count": 45,
      "outputs": [
        {
          "output_type": "stream",
          "text": [
            "232.86768775422655\n",
            "33.360343247980616\n",
            "3.623441610810982\n",
            "29.229755390346785\n",
            "5.581619116231321\n",
            "8.210004908749044\n",
            "24.983951656077565\n",
            "7.070352129262025\n",
            "6.0466656447710205\n",
            "13.548263891370118\n",
            "7.632422806091739\n",
            "15.543116409370471\n",
            "2.4093588573866263\n",
            "2.6209093779622945\n",
            "5.458879062957398\n",
            "6.445503619251405\n",
            "4.871617283520648\n",
            "1.4337688695420592\n",
            "6.700541349189751\n",
            "2.5305791511199103\n",
            "7.466851647343421\n",
            "0.6368353528098427\n",
            "3.46848883836906\n",
            "5.931528433543922\n",
            "0.2627604364695662\n",
            "4.936144945959663\n",
            "0.8453383076147254\n",
            "0.6281110371737306\n",
            "3.225014501889206\n",
            "0.05725388429006861\n",
            "0.1303490256968241\n",
            "0.5561935026415312\n",
            "0.018284289352610502\n",
            "0.0022846516272339665\n",
            "0.0009066088199343091\n",
            "7.454669881010341e-06\n",
            "8.979856974775594e-09\n",
            "8.01741071824296e-12\n"
          ],
          "name": "stdout"
        },
        {
          "output_type": "error",
          "ename": "ValueError",
          "evalue": "ignored",
          "traceback": [
            "\u001b[0;31m---------------------------------------------------------------------------\u001b[0m",
            "\u001b[0;31mValueError\u001b[0m                                Traceback (most recent call last)",
            "\u001b[0;32m<ipython-input-45-3a6e59cf5dbd>\u001b[0m in \u001b[0;36m<module>\u001b[0;34m()\u001b[0m\n\u001b[0;32m----> 1\u001b[0;31m \u001b[0mx\u001b[0m\u001b[0;34m,\u001b[0m \u001b[0miter\u001b[0m\u001b[0;34m,\u001b[0m \u001b[0mnorm\u001b[0m \u001b[0;34m=\u001b[0m \u001b[0mBFGS\u001b[0m\u001b[0;34m(\u001b[0m\u001b[0mf\u001b[0m\u001b[0;34m,\u001b[0m \u001b[0mgrad_f\u001b[0m\u001b[0;34m,\u001b[0m \u001b[0mx0\u001b[0m\u001b[0;34m,\u001b[0m \u001b[0;36m1e-12\u001b[0m\u001b[0;34m,\u001b[0m \u001b[0;36m5000\u001b[0m\u001b[0;34m,\u001b[0m \u001b[0mss\u001b[0m\u001b[0;34m.\u001b[0m\u001b[0mBacktracking\u001b[0m\u001b[0;34m(\u001b[0m\u001b[0;34m\"Armijo\"\u001b[0m\u001b[0;34m,\u001b[0m \u001b[0mrho\u001b[0m\u001b[0;34m=\u001b[0m\u001b[0;36m0.4\u001b[0m\u001b[0;34m,\u001b[0m \u001b[0mbeta\u001b[0m\u001b[0;34m=\u001b[0m\u001b[0;36m0.1\u001b[0m\u001b[0;34m,\u001b[0m \u001b[0minit_alpha\u001b[0m\u001b[0;34m=\u001b[0m\u001b[0;36m1.\u001b[0m\u001b[0;34m)\u001b[0m\u001b[0;34m,\u001b[0m \u001b[0mdisp\u001b[0m\u001b[0;34m=\u001b[0m\u001b[0;32mTrue\u001b[0m\u001b[0;34m)\u001b[0m\u001b[0;34m\u001b[0m\u001b[0;34m\u001b[0m\u001b[0m\n\u001b[0m",
            "\u001b[0;32m<ipython-input-44-d8179b75be03>\u001b[0m in \u001b[0;36mBFGS\u001b[0;34m(f, grad_f, x0, eps, max_iter, step, disp, rho_sign)\u001b[0m\n\u001b[1;32m     37\u001b[0m         \u001b[0mh\u001b[0m \u001b[0;34m=\u001b[0m \u001b[0;34m-\u001b[0m\u001b[0mH\u001b[0m\u001b[0;34m.\u001b[0m\u001b[0mdot\u001b[0m\u001b[0;34m(\u001b[0m\u001b[0mgrad\u001b[0m\u001b[0;34m)\u001b[0m\u001b[0;34m\u001b[0m\u001b[0;34m\u001b[0m\u001b[0m\n\u001b[1;32m     38\u001b[0m         \u001b[0mstep\u001b[0m\u001b[0;34m.\u001b[0m\u001b[0massign_function\u001b[0m\u001b[0;34m(\u001b[0m\u001b[0mf\u001b[0m\u001b[0;34m,\u001b[0m \u001b[0mgrad_f\u001b[0m\u001b[0;34m,\u001b[0m \u001b[0;32mlambda\u001b[0m \u001b[0mx\u001b[0m\u001b[0;34m,\u001b[0m \u001b[0malpha\u001b[0m\u001b[0;34m,\u001b[0m \u001b[0mh\u001b[0m\u001b[0;34m:\u001b[0m \u001b[0mx\u001b[0m \u001b[0;34m+\u001b[0m \u001b[0malpha\u001b[0m \u001b[0;34m*\u001b[0m \u001b[0mh\u001b[0m\u001b[0;34m)\u001b[0m\u001b[0;34m\u001b[0m\u001b[0;34m\u001b[0m\u001b[0m\n\u001b[0;32m---> 39\u001b[0;31m         \u001b[0malpha\u001b[0m \u001b[0;34m=\u001b[0m \u001b[0mstep\u001b[0m\u001b[0;34m.\u001b[0m\u001b[0mget_stepsize\u001b[0m\u001b[0;34m(\u001b[0m\u001b[0mh\u001b[0m\u001b[0;34m,\u001b[0m \u001b[0mx\u001b[0m\u001b[0;34m,\u001b[0m \u001b[0miter\u001b[0m\u001b[0;34m)\u001b[0m\u001b[0;34m\u001b[0m\u001b[0;34m\u001b[0m\u001b[0m\n\u001b[0m\u001b[1;32m     40\u001b[0m         \u001b[0mnext_grad\u001b[0m \u001b[0;34m=\u001b[0m \u001b[0mgrad_f\u001b[0m\u001b[0;34m(\u001b[0m\u001b[0mx\u001b[0m \u001b[0;34m+\u001b[0m \u001b[0malpha\u001b[0m \u001b[0;34m*\u001b[0m \u001b[0mh\u001b[0m\u001b[0;34m)\u001b[0m\u001b[0;34m\u001b[0m\u001b[0;34m\u001b[0m\u001b[0m\n\u001b[1;32m     41\u001b[0m         \u001b[0mH\u001b[0m \u001b[0;34m=\u001b[0m \u001b[0mUpdate_H\u001b[0m\u001b[0;34m(\u001b[0m\u001b[0mH\u001b[0m\u001b[0;34m,\u001b[0m \u001b[0mnext_grad\u001b[0m\u001b[0;34m,\u001b[0m \u001b[0mgrad\u001b[0m\u001b[0;34m,\u001b[0m \u001b[0mx\u001b[0m \u001b[0;34m+\u001b[0m \u001b[0malpha\u001b[0m \u001b[0;34m*\u001b[0m \u001b[0mh\u001b[0m\u001b[0;34m,\u001b[0m \u001b[0mx\u001b[0m\u001b[0;34m)\u001b[0m\u001b[0;34m\u001b[0m\u001b[0;34m\u001b[0m\u001b[0m\n",
            "\u001b[0;32m/usr/local/lib/python3.7/dist-packages/liboptpy/step_size.py\u001b[0m in \u001b[0;36mget_stepsize\u001b[0;34m(self, h, x, num_iter, *args)\u001b[0m\n\u001b[1;32m     92\u001b[0m                         \u001b[0;32mbreak\u001b[0m\u001b[0;34m\u001b[0m\u001b[0;34m\u001b[0m\u001b[0m\n\u001b[1;32m     93\u001b[0m                 \u001b[0;32mif\u001b[0m \u001b[0malpha\u001b[0m \u001b[0;34m<\u001b[0m \u001b[0;36m1e-16\u001b[0m\u001b[0;34m:\u001b[0m\u001b[0;34m\u001b[0m\u001b[0;34m\u001b[0m\u001b[0m\n\u001b[0;32m---> 94\u001b[0;31m                     \u001b[0;32mraise\u001b[0m \u001b[0mValueError\u001b[0m\u001b[0;34m(\u001b[0m\u001b[0;34m\"Step size is too small!\"\u001b[0m\u001b[0;34m)\u001b[0m\u001b[0;34m\u001b[0m\u001b[0;34m\u001b[0m\u001b[0m\n\u001b[0m\u001b[1;32m     95\u001b[0m                 \u001b[0mx_next\u001b[0m \u001b[0;34m=\u001b[0m \u001b[0mself\u001b[0m\u001b[0;34m.\u001b[0m\u001b[0m_update_x_next\u001b[0m\u001b[0;34m(\u001b[0m\u001b[0mx\u001b[0m\u001b[0;34m,\u001b[0m \u001b[0malpha\u001b[0m\u001b[0;34m,\u001b[0m \u001b[0mh\u001b[0m\u001b[0;34m)\u001b[0m\u001b[0;34m\u001b[0m\u001b[0;34m\u001b[0m\u001b[0m\n\u001b[1;32m     96\u001b[0m             \u001b[0;32mreturn\u001b[0m \u001b[0malpha\u001b[0m\u001b[0;34m\u001b[0m\u001b[0;34m\u001b[0m\u001b[0m\n",
            "\u001b[0;31mValueError\u001b[0m: Step size is too small!"
          ]
        }
      ]
    },
    {
      "cell_type": "markdown",
      "metadata": {
        "id": "kBM6mKS-B7la"
      },
      "source": [
        "А здесь после очередной итерации не нашлось шага, который удовлетворяет правилу Армихо. Значит, на этой итерации получено направление, не являющееся направлением убывания.\n",
        "\n",
        "А теперь сравним время работы методов, которые привели к ответу с заданной точностью."
      ]
    },
    {
      "cell_type": "code",
      "metadata": {
        "id": "Tum-BgiYn3I7",
        "colab": {
          "base_uri": "https://localhost:8080/"
        },
        "outputId": "dca553f2-734a-4362-b5eb-99cc0898d886"
      },
      "source": [
        "%timeit newton.solve(x0, tol=1e-7, max_iter=50, disp=True).block_until_ready()\n",
        "\n",
        "%timeit BFGS(f, grad_f, x0, 1e-7, 5000, ss.Backtracking(\"Wolfe\", rho=0.5, beta1=1e-3, beta2=0.9, init_alpha=1.))"
      ],
      "execution_count": 27,
      "outputs": [
        {
          "output_type": "stream",
          "text": [
            "Required tolerance achieved!\n",
            "Convergence in 21 iterations\n",
            "Function value = 2.4528510178244796e-21\n",
            "Norm of gradient = 2.1606802684043634e-09\n",
            "Required tolerance achieved!\n",
            "Convergence in 21 iterations\n",
            "Function value = 2.4528510178244796e-21\n",
            "Norm of gradient = 2.1606802684043634e-09\n",
            "Required tolerance achieved!\n",
            "Convergence in 21 iterations\n",
            "Function value = 2.4528510178244796e-21\n",
            "Norm of gradient = 2.1606802684043634e-09\n",
            "Required tolerance achieved!\n",
            "Convergence in 21 iterations\n",
            "Function value = 2.4528510178244796e-21\n",
            "Norm of gradient = 2.1606802684043634e-09\n",
            "Required tolerance achieved!\n",
            "Convergence in 21 iterations\n",
            "Function value = 2.4528510178244796e-21\n",
            "Norm of gradient = 2.1606802684043634e-09\n",
            "Required tolerance achieved!\n",
            "Convergence in 21 iterations\n",
            "Function value = 2.4528510178244796e-21\n",
            "Norm of gradient = 2.1606802684043634e-09\n",
            "1 loop, best of 5: 582 ms per loop\n",
            "1 loop, best of 5: 1.2 s per loop\n"
          ],
          "name": "stdout"
        }
      ]
    },
    {
      "cell_type": "markdown",
      "metadata": {
        "id": "MhdxbHP5FgcT"
      },
      "source": [
        "Метод Ньютона сошёлся в 2 раза быстрее, чем BFGS.\n",
        "\n",
        "Теперь рассмотрим вторую функцию."
      ]
    },
    {
      "cell_type": "code",
      "metadata": {
        "id": "jAChjjmzQlyz"
      },
      "source": [
        "import numpy as np\n",
        "import sklearn.datasets as skldata\n",
        "import scipy.special as scspec\n",
        "import jax\n",
        "import jax.numpy as jnp\n",
        "from jax.config import config\n",
        "config.update(\"jax_enable_x64\", True)\n",
        "\n",
        "n = 15\n",
        "m = 50\n",
        "\n",
        "np.random.seed(42)\n",
        "d = 100\n",
        "A = d*(np.random.rand(m, n)-0.5)\n",
        "B = d*(np.random.rand(m)-0.5)\n",
        "\n",
        "A = jnp.array(A)\n",
        "B = jnp.array(B)\n",
        "\n",
        "@jax.jit\n",
        "def g(w):\n",
        "    c = A @ w + B\n",
        "    m = jnp.max(c)\n",
        "    return m + jnp.log(jnp.sum(jnp.exp(c-m)))\n",
        "\n",
        "grad_g = jax.jit(jax.grad(g))\n",
        "hess_g = jax.jit(jax.hessian(g))\n",
        "\n",
        "g0 = jax.random.normal(jax.random.PRNGKey(0), (n,))"
      ],
      "execution_count": 29,
      "outputs": []
    },
    {
      "cell_type": "code",
      "metadata": {
        "colab": {
          "base_uri": "https://localhost:8080/",
          "height": 354
        },
        "id": "cRlE_qwWRaZn",
        "outputId": "f67767da-3e15-4e11-c3b3-27376e0ad369"
      },
      "source": [
        "newton = methods.so.NewtonMethod(g, grad_g, hess_g, ss.Backtracking(\"Armijo\", rho=0.4, beta=0.1, init_alpha=1.), linsolver=jnp.linalg.solve)\n",
        "#newton = methods.so.NewtonMethod(g, grad_g, hess_g, ss.ConstantStepSize(5e-1))\n",
        "x_newton = newton.solve(g0, tol=1e-7, max_iter=50, disp=True)\n",
        "print(\"\")\n"
      ],
      "execution_count": 21,
      "outputs": [
        {
          "output_type": "error",
          "ename": "ValueError",
          "evalue": "ignored",
          "traceback": [
            "\u001b[0;31m---------------------------------------------------------------------------\u001b[0m",
            "\u001b[0;31mValueError\u001b[0m                                Traceback (most recent call last)",
            "\u001b[0;32m<ipython-input-21-1c7712065a16>\u001b[0m in \u001b[0;36m<module>\u001b[0;34m()\u001b[0m\n\u001b[1;32m      1\u001b[0m \u001b[0mnewton\u001b[0m \u001b[0;34m=\u001b[0m \u001b[0mmethods\u001b[0m\u001b[0;34m.\u001b[0m\u001b[0mso\u001b[0m\u001b[0;34m.\u001b[0m\u001b[0mNewtonMethod\u001b[0m\u001b[0;34m(\u001b[0m\u001b[0mg\u001b[0m\u001b[0;34m,\u001b[0m \u001b[0mgrad_g\u001b[0m\u001b[0;34m,\u001b[0m \u001b[0mhess_g\u001b[0m\u001b[0;34m,\u001b[0m \u001b[0mss\u001b[0m\u001b[0;34m.\u001b[0m\u001b[0mBacktracking\u001b[0m\u001b[0;34m(\u001b[0m\u001b[0;34m\"Armijo\"\u001b[0m\u001b[0;34m,\u001b[0m \u001b[0mrho\u001b[0m\u001b[0;34m=\u001b[0m\u001b[0;36m0.4\u001b[0m\u001b[0;34m,\u001b[0m \u001b[0mbeta\u001b[0m\u001b[0;34m=\u001b[0m\u001b[0;36m0.1\u001b[0m\u001b[0;34m,\u001b[0m \u001b[0minit_alpha\u001b[0m\u001b[0;34m=\u001b[0m\u001b[0;36m1.\u001b[0m\u001b[0;34m)\u001b[0m\u001b[0;34m,\u001b[0m \u001b[0mlinsolver\u001b[0m\u001b[0;34m=\u001b[0m\u001b[0mjnp\u001b[0m\u001b[0;34m.\u001b[0m\u001b[0mlinalg\u001b[0m\u001b[0;34m.\u001b[0m\u001b[0msolve\u001b[0m\u001b[0;34m)\u001b[0m\u001b[0;34m\u001b[0m\u001b[0;34m\u001b[0m\u001b[0m\n\u001b[1;32m      2\u001b[0m \u001b[0;31m#newton = methods.so.NewtonMethod(g, grad_g, hess_g, ss.ConstantStepSize(5e-1))\u001b[0m\u001b[0;34m\u001b[0m\u001b[0;34m\u001b[0m\u001b[0;34m\u001b[0m\u001b[0m\n\u001b[0;32m----> 3\u001b[0;31m \u001b[0mx_newton\u001b[0m \u001b[0;34m=\u001b[0m \u001b[0mnewton\u001b[0m\u001b[0;34m.\u001b[0m\u001b[0msolve\u001b[0m\u001b[0;34m(\u001b[0m\u001b[0mg0\u001b[0m\u001b[0;34m,\u001b[0m \u001b[0mtol\u001b[0m\u001b[0;34m=\u001b[0m\u001b[0;36m1e-7\u001b[0m\u001b[0;34m,\u001b[0m \u001b[0mmax_iter\u001b[0m\u001b[0;34m=\u001b[0m\u001b[0;36m50\u001b[0m\u001b[0;34m,\u001b[0m \u001b[0mdisp\u001b[0m\u001b[0;34m=\u001b[0m\u001b[0;32mTrue\u001b[0m\u001b[0;34m)\u001b[0m\u001b[0;34m\u001b[0m\u001b[0;34m\u001b[0m\u001b[0m\n\u001b[0m\u001b[1;32m      4\u001b[0m \u001b[0mprint\u001b[0m\u001b[0;34m(\u001b[0m\u001b[0;34m\"\"\u001b[0m\u001b[0;34m)\u001b[0m\u001b[0;34m\u001b[0m\u001b[0;34m\u001b[0m\u001b[0m\n",
            "\u001b[0;32m/usr/local/lib/python3.7/dist-packages/liboptpy/base_optimizer.py\u001b[0m in \u001b[0;36msolve\u001b[0;34m(self, x0, max_iter, tol, disp)\u001b[0m\n\u001b[1;32m     35\u001b[0m                 \u001b[0mprint\u001b[0m\u001b[0;34m(\u001b[0m\u001b[0;34m\"Current function val =\"\u001b[0m\u001b[0;34m,\u001b[0m \u001b[0mself\u001b[0m\u001b[0;34m.\u001b[0m\u001b[0m_f\u001b[0m\u001b[0;34m(\u001b[0m\u001b[0mself\u001b[0m\u001b[0;34m.\u001b[0m\u001b[0m_x_current\u001b[0m\u001b[0;34m)\u001b[0m\u001b[0;34m)\u001b[0m\u001b[0;34m\u001b[0m\u001b[0;34m\u001b[0m\u001b[0m\n\u001b[1;32m     36\u001b[0m                 \u001b[0mself\u001b[0m\u001b[0;34m.\u001b[0m\u001b[0m_print_info\u001b[0m\u001b[0;34m(\u001b[0m\u001b[0;34m)\u001b[0m\u001b[0;34m\u001b[0m\u001b[0;34m\u001b[0m\u001b[0m\n\u001b[0;32m---> 37\u001b[0;31m             \u001b[0mself\u001b[0m\u001b[0;34m.\u001b[0m\u001b[0m_alpha\u001b[0m \u001b[0;34m=\u001b[0m \u001b[0mself\u001b[0m\u001b[0;34m.\u001b[0m\u001b[0mget_stepsize\u001b[0m\u001b[0;34m(\u001b[0m\u001b[0;34m)\u001b[0m\u001b[0;34m\u001b[0m\u001b[0;34m\u001b[0m\u001b[0m\n\u001b[0m\u001b[1;32m     38\u001b[0m             \u001b[0mself\u001b[0m\u001b[0;34m.\u001b[0m\u001b[0m_update_x_next\u001b[0m\u001b[0;34m(\u001b[0m\u001b[0;34m)\u001b[0m\u001b[0;34m\u001b[0m\u001b[0;34m\u001b[0m\u001b[0m\n\u001b[1;32m     39\u001b[0m             \u001b[0mself\u001b[0m\u001b[0;34m.\u001b[0m\u001b[0m_update_x_current\u001b[0m\u001b[0;34m(\u001b[0m\u001b[0;34m)\u001b[0m\u001b[0;34m\u001b[0m\u001b[0;34m\u001b[0m\u001b[0m\n",
            "\u001b[0;32m/usr/local/lib/python3.7/dist-packages/liboptpy/unconstr_solvers/so/_newton.py\u001b[0m in \u001b[0;36mget_stepsize\u001b[0;34m(self)\u001b[0m\n\u001b[1;32m     18\u001b[0m \u001b[0;34m\u001b[0m\u001b[0m\n\u001b[1;32m     19\u001b[0m     \u001b[0;32mdef\u001b[0m \u001b[0mget_stepsize\u001b[0m\u001b[0;34m(\u001b[0m\u001b[0mself\u001b[0m\u001b[0;34m)\u001b[0m\u001b[0;34m:\u001b[0m\u001b[0;34m\u001b[0m\u001b[0;34m\u001b[0m\u001b[0m\n\u001b[0;32m---> 20\u001b[0;31m         \u001b[0;32mreturn\u001b[0m \u001b[0mself\u001b[0m\u001b[0;34m.\u001b[0m\u001b[0m_step_size\u001b[0m\u001b[0;34m.\u001b[0m\u001b[0mget_stepsize\u001b[0m\u001b[0;34m(\u001b[0m\u001b[0mself\u001b[0m\u001b[0;34m.\u001b[0m\u001b[0m_h\u001b[0m\u001b[0;34m,\u001b[0m \u001b[0mself\u001b[0m\u001b[0;34m.\u001b[0m\u001b[0mconvergence\u001b[0m\u001b[0;34m[\u001b[0m\u001b[0;34m-\u001b[0m\u001b[0;36m1\u001b[0m\u001b[0;34m]\u001b[0m\u001b[0;34m,\u001b[0m \u001b[0mlen\u001b[0m\u001b[0;34m(\u001b[0m\u001b[0mself\u001b[0m\u001b[0;34m.\u001b[0m\u001b[0mconvergence\u001b[0m\u001b[0;34m)\u001b[0m\u001b[0;34m)\u001b[0m\u001b[0;34m\u001b[0m\u001b[0;34m\u001b[0m\u001b[0m\n\u001b[0m\u001b[1;32m     21\u001b[0m \u001b[0;34m\u001b[0m\u001b[0m\n",
            "\u001b[0;32m/usr/local/lib/python3.7/dist-packages/liboptpy/step_size.py\u001b[0m in \u001b[0;36mget_stepsize\u001b[0;34m(self, h, x, num_iter, *args)\u001b[0m\n\u001b[1;32m     92\u001b[0m                         \u001b[0;32mbreak\u001b[0m\u001b[0;34m\u001b[0m\u001b[0;34m\u001b[0m\u001b[0m\n\u001b[1;32m     93\u001b[0m                 \u001b[0;32mif\u001b[0m \u001b[0malpha\u001b[0m \u001b[0;34m<\u001b[0m \u001b[0;36m1e-16\u001b[0m\u001b[0;34m:\u001b[0m\u001b[0;34m\u001b[0m\u001b[0;34m\u001b[0m\u001b[0m\n\u001b[0;32m---> 94\u001b[0;31m                     \u001b[0;32mraise\u001b[0m \u001b[0mValueError\u001b[0m\u001b[0;34m(\u001b[0m\u001b[0;34m\"Step size is too small!\"\u001b[0m\u001b[0;34m)\u001b[0m\u001b[0;34m\u001b[0m\u001b[0;34m\u001b[0m\u001b[0m\n\u001b[0m\u001b[1;32m     95\u001b[0m                 \u001b[0mx_next\u001b[0m \u001b[0;34m=\u001b[0m \u001b[0mself\u001b[0m\u001b[0;34m.\u001b[0m\u001b[0m_update_x_next\u001b[0m\u001b[0;34m(\u001b[0m\u001b[0mx\u001b[0m\u001b[0;34m,\u001b[0m \u001b[0malpha\u001b[0m\u001b[0;34m,\u001b[0m \u001b[0mh\u001b[0m\u001b[0;34m)\u001b[0m\u001b[0;34m\u001b[0m\u001b[0;34m\u001b[0m\u001b[0m\n\u001b[1;32m     96\u001b[0m             \u001b[0;32mreturn\u001b[0m \u001b[0malpha\u001b[0m\u001b[0;34m\u001b[0m\u001b[0;34m\u001b[0m\u001b[0m\n",
            "\u001b[0;31mValueError\u001b[0m: Step size is too small!"
          ]
        }
      ]
    },
    {
      "cell_type": "code",
      "metadata": {
        "colab": {
          "base_uri": "https://localhost:8080/"
        },
        "id": "TmuCw577QsYu",
        "outputId": "4912c28d-81e4-4aa8-c0eb-92372e1109d7"
      },
      "source": [
        "x, iter, norm = BFGS(g, grad_g, g0, 1e-7, 5000, ss.Backtracking(\"Wolfe\", rho=0.5, beta1=1e-3, beta2=0.9, init_alpha=1.))\n",
        "print(\"Метод BFGS с правилом Вольфа выбора шага\")\n",
        "print(\"Количество итераций:\", iter)\n",
        "print(\"Норма градиента:\", norm)\n",
        "print(\"х =\", x)\n",
        "print(\"Значение функции:\", g(x), '\\n')"
      ],
      "execution_count": 30,
      "outputs": [
        {
          "output_type": "stream",
          "text": [
            "Метод BFGS с правилом Вольфа выбора шага\n",
            "Количество итераций: 99\n",
            "Норма градиента: 5.251583999784427e-09\n",
            "х = [-0.4640224   0.05820467 -0.44704412 -0.06019141 -0.06306582  0.02867132\n",
            "  0.08906682 -0.18636503  0.76230665 -0.62538177  0.20113387  0.09094555\n",
            "  0.15568361 -0.35978839  0.6481892 ]\n",
            "Значение функции: 24.73204462123784 \n",
            "\n"
          ],
          "name": "stdout"
        }
      ]
    },
    {
      "cell_type": "code",
      "metadata": {
        "colab": {
          "base_uri": "https://localhost:8080/"
        },
        "id": "3TtKTqzuYCcq",
        "outputId": "77a80f8d-04f6-43ad-8a51-4507fd0cc4af"
      },
      "source": [
        "x, iter, norm = BFGS(g, grad_g, g0, 1e-7, 100, ss.ConstantStepSize(1e-3))\n",
        "print(\"Метод BFGS с постоянным шагом\")\n",
        "print(\"Количество итераций:\", iter)\n",
        "print(\"Норма градиента:\", norm)\n",
        "print(\"х =\", x)\n",
        "print(\"Значение функции:\", g(x))"
      ],
      "execution_count": 23,
      "outputs": [
        {
          "output_type": "stream",
          "text": [
            "Метод BFGS с постоянным шагом\n",
            "Количество итераций: 101\n",
            "Норма градиента: nan\n",
            "х = [nan nan nan nan nan nan nan nan nan nan nan nan nan nan nan]\n",
            "Значение функции: nan\n"
          ],
          "name": "stdout"
        }
      ]
    },
    {
      "cell_type": "code",
      "metadata": {
        "colab": {
          "base_uri": "https://localhost:8080/",
          "height": 1000
        },
        "id": "lR52Iw32RzRe",
        "outputId": "5569e128-93dc-485d-a6c6-53d5adb26585"
      },
      "source": [
        "x, iter, norm = BFGS(g, grad_g, g0, 1e-7, 5000, ss.Backtracking(\"Armijo\", rho=0.4, beta=0.1, init_alpha=1.), disp=True)"
      ],
      "execution_count": 24,
      "outputs": [
        {
          "output_type": "stream",
          "text": [
            "123.19476233274516\n",
            "118.69808672211457\n",
            "109.30410331147417\n",
            "97.86811129235379\n",
            "97.05209619498247\n",
            "109.3973384082681\n",
            "74.57126535455862\n",
            "55.730543192089726\n",
            "57.535174249186014\n",
            "128.12667643387883\n",
            "110.88514592001128\n",
            "130.0615009578544\n",
            "126.92259958108313\n",
            "82.15264407626026\n",
            "121.73037978783539\n",
            "88.22102949485253\n",
            "106.8421902875718\n",
            "76.82624587116791\n",
            "59.43448696917196\n",
            "76.06449483052624\n",
            "86.23628460606517\n",
            "112.52799470382234\n",
            "139.5087219917597\n",
            "112.84292916948192\n",
            "93.80474919839124\n",
            "80.01425528694706\n",
            "79.32438279603443\n",
            "79.83299735509068\n",
            "72.07702056738464\n",
            "86.05948859598533\n",
            "40.819194473909086\n",
            "42.68013088246534\n",
            "46.25830297961455\n",
            "44.21538946944439\n",
            "43.15574277711235\n",
            "25.660356030452927\n",
            "16.449129847842116\n",
            "21.900523790039163\n",
            "18.533610526500013\n",
            "16.459209430801998\n",
            "20.98768784057478\n",
            "19.356424374920426\n",
            "11.93487097875259\n",
            "10.287069052070223\n",
            "7.6885555431321935\n",
            "5.009250160197289\n",
            "3.3864395096524276\n",
            "3.791353150295337\n",
            "3.786634836659506\n",
            "5.132882935340274\n",
            "5.143117140015616\n",
            "4.075494868985825\n",
            "3.383786266120559\n",
            "2.8301344149484953\n",
            "2.600557588328334\n",
            "2.677911674891096\n",
            "2.5277889935925484\n",
            "2.121048452903627\n",
            "1.542880617080938\n",
            "1.0454853919401181\n",
            "0.9608821189971877\n",
            "1.0992886879604047\n",
            "1.2422157686745143\n",
            "1.1315034502430887\n",
            "0.785322807953785\n",
            "0.5306507491830118\n",
            "0.3578663604297737\n",
            "0.22372224597833024\n",
            "0.13872643706932355\n",
            "0.08507654312081131\n",
            "0.04385747679187191\n",
            "0.017820450283537386\n",
            "0.007768818637289401\n",
            "0.004172918093798476\n",
            "0.0022229271707219526\n",
            "0.001339726394187445\n",
            "0.000999596551605425\n",
            "0.0007160494417627777\n",
            "0.00039692748647205485\n",
            "0.00015691008927844546\n",
            "4.749493595630789e-05\n",
            "1.0659079494830028e-05\n"
          ],
          "name": "stdout"
        },
        {
          "output_type": "error",
          "ename": "ValueError",
          "evalue": "ignored",
          "traceback": [
            "\u001b[0;31m---------------------------------------------------------------------------\u001b[0m",
            "\u001b[0;31mValueError\u001b[0m                                Traceback (most recent call last)",
            "\u001b[0;32m<ipython-input-24-6b7b2140f347>\u001b[0m in \u001b[0;36m<module>\u001b[0;34m()\u001b[0m\n\u001b[0;32m----> 1\u001b[0;31m \u001b[0mx\u001b[0m\u001b[0;34m,\u001b[0m \u001b[0miter\u001b[0m\u001b[0;34m,\u001b[0m \u001b[0mnorm\u001b[0m \u001b[0;34m=\u001b[0m \u001b[0mBFGS\u001b[0m\u001b[0;34m(\u001b[0m\u001b[0mg\u001b[0m\u001b[0;34m,\u001b[0m \u001b[0mgrad_g\u001b[0m\u001b[0;34m,\u001b[0m \u001b[0mg0\u001b[0m\u001b[0;34m,\u001b[0m \u001b[0;36m1e-7\u001b[0m\u001b[0;34m,\u001b[0m \u001b[0;36m5000\u001b[0m\u001b[0;34m,\u001b[0m \u001b[0mss\u001b[0m\u001b[0;34m.\u001b[0m\u001b[0mBacktracking\u001b[0m\u001b[0;34m(\u001b[0m\u001b[0;34m\"Armijo\"\u001b[0m\u001b[0;34m,\u001b[0m \u001b[0mrho\u001b[0m\u001b[0;34m=\u001b[0m\u001b[0;36m0.4\u001b[0m\u001b[0;34m,\u001b[0m \u001b[0mbeta\u001b[0m\u001b[0;34m=\u001b[0m\u001b[0;36m0.1\u001b[0m\u001b[0;34m,\u001b[0m \u001b[0minit_alpha\u001b[0m\u001b[0;34m=\u001b[0m\u001b[0;36m1.\u001b[0m\u001b[0;34m)\u001b[0m\u001b[0;34m,\u001b[0m \u001b[0mdisp\u001b[0m\u001b[0;34m=\u001b[0m\u001b[0;32mTrue\u001b[0m\u001b[0;34m)\u001b[0m\u001b[0;34m\u001b[0m\u001b[0;34m\u001b[0m\u001b[0m\n\u001b[0m",
            "\u001b[0;32m<ipython-input-3-d8179b75be03>\u001b[0m in \u001b[0;36mBFGS\u001b[0;34m(f, grad_f, x0, eps, max_iter, step, disp, rho_sign)\u001b[0m\n\u001b[1;32m     37\u001b[0m         \u001b[0mh\u001b[0m \u001b[0;34m=\u001b[0m \u001b[0;34m-\u001b[0m\u001b[0mH\u001b[0m\u001b[0;34m.\u001b[0m\u001b[0mdot\u001b[0m\u001b[0;34m(\u001b[0m\u001b[0mgrad\u001b[0m\u001b[0;34m)\u001b[0m\u001b[0;34m\u001b[0m\u001b[0;34m\u001b[0m\u001b[0m\n\u001b[1;32m     38\u001b[0m         \u001b[0mstep\u001b[0m\u001b[0;34m.\u001b[0m\u001b[0massign_function\u001b[0m\u001b[0;34m(\u001b[0m\u001b[0mf\u001b[0m\u001b[0;34m,\u001b[0m \u001b[0mgrad_f\u001b[0m\u001b[0;34m,\u001b[0m \u001b[0;32mlambda\u001b[0m \u001b[0mx\u001b[0m\u001b[0;34m,\u001b[0m \u001b[0malpha\u001b[0m\u001b[0;34m,\u001b[0m \u001b[0mh\u001b[0m\u001b[0;34m:\u001b[0m \u001b[0mx\u001b[0m \u001b[0;34m+\u001b[0m \u001b[0malpha\u001b[0m \u001b[0;34m*\u001b[0m \u001b[0mh\u001b[0m\u001b[0;34m)\u001b[0m\u001b[0;34m\u001b[0m\u001b[0;34m\u001b[0m\u001b[0m\n\u001b[0;32m---> 39\u001b[0;31m         \u001b[0malpha\u001b[0m \u001b[0;34m=\u001b[0m \u001b[0mstep\u001b[0m\u001b[0;34m.\u001b[0m\u001b[0mget_stepsize\u001b[0m\u001b[0;34m(\u001b[0m\u001b[0mh\u001b[0m\u001b[0;34m,\u001b[0m \u001b[0mx\u001b[0m\u001b[0;34m,\u001b[0m \u001b[0miter\u001b[0m\u001b[0;34m)\u001b[0m\u001b[0;34m\u001b[0m\u001b[0;34m\u001b[0m\u001b[0m\n\u001b[0m\u001b[1;32m     40\u001b[0m         \u001b[0mnext_grad\u001b[0m \u001b[0;34m=\u001b[0m \u001b[0mgrad_f\u001b[0m\u001b[0;34m(\u001b[0m\u001b[0mx\u001b[0m \u001b[0;34m+\u001b[0m \u001b[0malpha\u001b[0m \u001b[0;34m*\u001b[0m \u001b[0mh\u001b[0m\u001b[0;34m)\u001b[0m\u001b[0;34m\u001b[0m\u001b[0;34m\u001b[0m\u001b[0m\n\u001b[1;32m     41\u001b[0m         \u001b[0mH\u001b[0m \u001b[0;34m=\u001b[0m \u001b[0mUpdate_H\u001b[0m\u001b[0;34m(\u001b[0m\u001b[0mH\u001b[0m\u001b[0;34m,\u001b[0m \u001b[0mnext_grad\u001b[0m\u001b[0;34m,\u001b[0m \u001b[0mgrad\u001b[0m\u001b[0;34m,\u001b[0m \u001b[0mx\u001b[0m \u001b[0;34m+\u001b[0m \u001b[0malpha\u001b[0m \u001b[0;34m*\u001b[0m \u001b[0mh\u001b[0m\u001b[0;34m,\u001b[0m \u001b[0mx\u001b[0m\u001b[0;34m)\u001b[0m\u001b[0;34m\u001b[0m\u001b[0;34m\u001b[0m\u001b[0m\n",
            "\u001b[0;32m/usr/local/lib/python3.7/dist-packages/liboptpy/step_size.py\u001b[0m in \u001b[0;36mget_stepsize\u001b[0;34m(self, h, x, num_iter, *args)\u001b[0m\n\u001b[1;32m     92\u001b[0m                         \u001b[0;32mbreak\u001b[0m\u001b[0;34m\u001b[0m\u001b[0;34m\u001b[0m\u001b[0m\n\u001b[1;32m     93\u001b[0m                 \u001b[0;32mif\u001b[0m \u001b[0malpha\u001b[0m \u001b[0;34m<\u001b[0m \u001b[0;36m1e-16\u001b[0m\u001b[0;34m:\u001b[0m\u001b[0;34m\u001b[0m\u001b[0;34m\u001b[0m\u001b[0m\n\u001b[0;32m---> 94\u001b[0;31m                     \u001b[0;32mraise\u001b[0m \u001b[0mValueError\u001b[0m\u001b[0;34m(\u001b[0m\u001b[0;34m\"Step size is too small!\"\u001b[0m\u001b[0;34m)\u001b[0m\u001b[0;34m\u001b[0m\u001b[0;34m\u001b[0m\u001b[0m\n\u001b[0m\u001b[1;32m     95\u001b[0m                 \u001b[0mx_next\u001b[0m \u001b[0;34m=\u001b[0m \u001b[0mself\u001b[0m\u001b[0;34m.\u001b[0m\u001b[0m_update_x_next\u001b[0m\u001b[0;34m(\u001b[0m\u001b[0mx\u001b[0m\u001b[0;34m,\u001b[0m \u001b[0malpha\u001b[0m\u001b[0;34m,\u001b[0m \u001b[0mh\u001b[0m\u001b[0;34m)\u001b[0m\u001b[0;34m\u001b[0m\u001b[0;34m\u001b[0m\u001b[0m\n\u001b[1;32m     96\u001b[0m             \u001b[0;32mreturn\u001b[0m \u001b[0malpha\u001b[0m\u001b[0;34m\u001b[0m\u001b[0;34m\u001b[0m\u001b[0m\n",
            "\u001b[0;31mValueError\u001b[0m: Step size is too small!"
          ]
        }
      ]
    },
    {
      "cell_type": "markdown",
      "metadata": {
        "id": "DwW0egb4ZmIP"
      },
      "source": [
        "Как видим, на данном примере метод Ньютона не сработал, BFGS с правилом Вольфа сошёлся, с правилом Армихо в какой-то момент потерял направление убывания, с постоянным шагом разошёлся\n",
        "\n",
        "#### Пункт 4"
      ]
    },
    {
      "cell_type": "code",
      "metadata": {
        "colab": {
          "base_uri": "https://localhost:8080/"
        },
        "id": "9ihge-LzaRpm",
        "outputId": "8b21ad0e-16f7-4791-9d3a-fcc774c28a93"
      },
      "source": [
        "x, iter, norm = BFGS(f, grad_f, x0, 1e-7, 100, ss.ConstantStepSize(1e-3), rho_sign=True)"
      ],
      "execution_count": 36,
      "outputs": [
        {
          "output_type": "stream",
          "text": [
            "rho is less than 0 on iteration 1\n"
          ],
          "name": "stdout"
        }
      ]
    },
    {
      "cell_type": "code",
      "metadata": {
        "id": "wyywCZCycQRU"
      },
      "source": [
        "x, iter, norm = BFGS(f, grad_f, x0, 1e-7, 5000, ss.Backtracking(\"Armijo\", rho=0.4, beta=0.1, init_alpha=1.), rho_sign=True)"
      ],
      "execution_count": 37,
      "outputs": []
    },
    {
      "cell_type": "markdown",
      "metadata": {
        "id": "DIw8UJ0rcUOS"
      },
      "source": [
        "На нашем примере (функция Розенброка) число $y_k^{\\top}s_k$ оказалось меньше 0 только на первой итерации метода с постоянным шагом (при этом начинали мы с нулевой итерации). "
      ]
    },
    {
      "cell_type": "markdown",
      "metadata": {
        "id": "ocC1aQwynrmA"
      },
      "source": [
        "## Задача 2 (5 pts)\n",
        "\n",
        "Предложите свой квазиньютоновский метод, реализуйте его и сравните скорость его сходимости (по времени и по итерациям) с методом Ньютона и с методом BFGS, который Вы реализовали в задаче 1. Для сравнения используйте задачу \n",
        "\n",
        "$$\n",
        "    \\min_x \\log \\left( \\sum_{i=1}^m \\exp(a_i^{\\top}x + b_i)\\right).\n",
        "$$\n",
        "\n",
        "Обоснуйте (хотя бы в общих чертах), почему Ваш метод будет работать. \n",
        "Строгого доказательства я не требую, но мотивацию, которой Вы руководствовались, пожалуйста, приведите. "
      ]
    },
    {
      "cell_type": "markdown",
      "metadata": {
        "id": "XtqdAxKQe_ws"
      },
      "source": [
        "### Решение\n",
        "\n",
        "Будем искать $H_{k+1}$ как решение задачи \n",
        "\n",
        "$$\\begin{align*}& H_{k+1} = H_{k+1}^{\\top}\\\\\n",
        "& H_{k+1}y_k = s_k\n",
        "\\end{align*}$$\n",
        "\n",
        "Заметим, что этой системе удовлетворяет просто-напросто матрица $H_{k+1} = \\rho_k s_k s_k^{\\top}$. Она вычисляется быстрее, чем матрица $H$ в формуле для методов DFP и BFGS, но зато менее точно приближает гессиан. Теперь испытаем её на функции Розенброка."
      ]
    },
    {
      "cell_type": "code",
      "metadata": {
        "collapsed": true,
        "id": "2yutZ57UnrmB"
      },
      "source": [
        "def My_update_H(H, current_grad, prev_grad, x_next, x_current):\n",
        "    s = x_next - x_current\n",
        "    y = current_grad - prev_grad\n",
        "    rho = 1. / y.dot(s)\n",
        "    ss = np.outer(s, s)\n",
        "    H = rho * ss\n",
        "    return H\n",
        "\n",
        "def My_quazi (f, grad_f, x0, eps, max_iter, step, disp=False, rho_sign=False):\n",
        "    x = x0\n",
        "    H = np.eye(len(x))\n",
        "    iter = 0\n",
        "    grad = grad_f(x)\n",
        "    #grad_list = []\n",
        "    while True:\n",
        "        h = -H.dot(grad)\n",
        "        step.assign_function(f, grad_f, lambda x, alpha, h: x + alpha * h)\n",
        "        alpha = step.get_stepsize(h, x, iter)\n",
        "        next_grad = grad_f(x + alpha * h)\n",
        "        H = My_update_H(H, next_grad, grad, x + alpha * h, x)\n",
        "        if rho_sign and np.dot(next_grad - grad, alpha * h) <= 0:\n",
        "            print(\"rho is less than 0 on iteration\", iter)\n",
        "        x = x + alpha * h\n",
        "        norm = np.linalg.norm(grad)\n",
        "        grad = next_grad\n",
        "        #grad_list.append(norm)\n",
        "        if disp:\n",
        "            print(norm)\n",
        "        if (norm < eps or iter > max_iter):\n",
        "            break\n",
        "        iter += 1\n",
        "    return (x, iter, norm)"
      ],
      "execution_count": 38,
      "outputs": []
    },
    {
      "cell_type": "code",
      "metadata": {
        "colab": {
          "base_uri": "https://localhost:8080/",
          "height": 404
        },
        "id": "3yanGt5gduYv",
        "outputId": "0d97a05c-ccd0-489d-ab9e-790068978277"
      },
      "source": [
        "x, iter, norm = My_quazi(f, grad_f, x0, 1e-7, 5000, ss.Backtracking(\"Armijo\", rho=0.4, beta=0.1, init_alpha=1.), disp=True)"
      ],
      "execution_count": 46,
      "outputs": [
        {
          "output_type": "stream",
          "text": [
            "232.86768775422655\n",
            "33.360343247980616\n",
            "5.81297299572706\n",
            "1.7744619986387735\n",
            "1.7765602449995859\n",
            "1.7766337281291864\n"
          ],
          "name": "stdout"
        },
        {
          "output_type": "error",
          "ename": "ValueError",
          "evalue": "ignored",
          "traceback": [
            "\u001b[0;31m---------------------------------------------------------------------------\u001b[0m",
            "\u001b[0;31mValueError\u001b[0m                                Traceback (most recent call last)",
            "\u001b[0;32m<ipython-input-46-0eb41eb28a99>\u001b[0m in \u001b[0;36m<module>\u001b[0;34m()\u001b[0m\n\u001b[0;32m----> 1\u001b[0;31m \u001b[0mx\u001b[0m\u001b[0;34m,\u001b[0m \u001b[0miter\u001b[0m\u001b[0;34m,\u001b[0m \u001b[0mnorm\u001b[0m \u001b[0;34m=\u001b[0m \u001b[0mMy_quazi\u001b[0m\u001b[0;34m(\u001b[0m\u001b[0mf\u001b[0m\u001b[0;34m,\u001b[0m \u001b[0mgrad_f\u001b[0m\u001b[0;34m,\u001b[0m \u001b[0mx0\u001b[0m\u001b[0;34m,\u001b[0m \u001b[0;36m1e-7\u001b[0m\u001b[0;34m,\u001b[0m \u001b[0;36m5000\u001b[0m\u001b[0;34m,\u001b[0m \u001b[0mss\u001b[0m\u001b[0;34m.\u001b[0m\u001b[0mBacktracking\u001b[0m\u001b[0;34m(\u001b[0m\u001b[0;34m\"Armijo\"\u001b[0m\u001b[0;34m,\u001b[0m \u001b[0mrho\u001b[0m\u001b[0;34m=\u001b[0m\u001b[0;36m0.4\u001b[0m\u001b[0;34m,\u001b[0m \u001b[0mbeta\u001b[0m\u001b[0;34m=\u001b[0m\u001b[0;36m0.1\u001b[0m\u001b[0;34m,\u001b[0m \u001b[0minit_alpha\u001b[0m\u001b[0;34m=\u001b[0m\u001b[0;36m1.\u001b[0m\u001b[0;34m)\u001b[0m\u001b[0;34m,\u001b[0m \u001b[0mdisp\u001b[0m\u001b[0;34m=\u001b[0m\u001b[0;32mTrue\u001b[0m\u001b[0;34m)\u001b[0m\u001b[0;34m\u001b[0m\u001b[0;34m\u001b[0m\u001b[0m\n\u001b[0m",
            "\u001b[0;32m<ipython-input-38-3af253f450d4>\u001b[0m in \u001b[0;36mMy_quazi\u001b[0;34m(f, grad_f, x0, eps, max_iter, step, disp, rho_sign)\u001b[0m\n\u001b[1;32m     16\u001b[0m         \u001b[0mh\u001b[0m \u001b[0;34m=\u001b[0m \u001b[0;34m-\u001b[0m\u001b[0mH\u001b[0m\u001b[0;34m.\u001b[0m\u001b[0mdot\u001b[0m\u001b[0;34m(\u001b[0m\u001b[0mgrad\u001b[0m\u001b[0;34m)\u001b[0m\u001b[0;34m\u001b[0m\u001b[0;34m\u001b[0m\u001b[0m\n\u001b[1;32m     17\u001b[0m         \u001b[0mstep\u001b[0m\u001b[0;34m.\u001b[0m\u001b[0massign_function\u001b[0m\u001b[0;34m(\u001b[0m\u001b[0mf\u001b[0m\u001b[0;34m,\u001b[0m \u001b[0mgrad_f\u001b[0m\u001b[0;34m,\u001b[0m \u001b[0;32mlambda\u001b[0m \u001b[0mx\u001b[0m\u001b[0;34m,\u001b[0m \u001b[0malpha\u001b[0m\u001b[0;34m,\u001b[0m \u001b[0mh\u001b[0m\u001b[0;34m:\u001b[0m \u001b[0mx\u001b[0m \u001b[0;34m+\u001b[0m \u001b[0malpha\u001b[0m \u001b[0;34m*\u001b[0m \u001b[0mh\u001b[0m\u001b[0;34m)\u001b[0m\u001b[0;34m\u001b[0m\u001b[0;34m\u001b[0m\u001b[0m\n\u001b[0;32m---> 18\u001b[0;31m         \u001b[0malpha\u001b[0m \u001b[0;34m=\u001b[0m \u001b[0mstep\u001b[0m\u001b[0;34m.\u001b[0m\u001b[0mget_stepsize\u001b[0m\u001b[0;34m(\u001b[0m\u001b[0mh\u001b[0m\u001b[0;34m,\u001b[0m \u001b[0mx\u001b[0m\u001b[0;34m,\u001b[0m \u001b[0miter\u001b[0m\u001b[0;34m)\u001b[0m\u001b[0;34m\u001b[0m\u001b[0;34m\u001b[0m\u001b[0m\n\u001b[0m\u001b[1;32m     19\u001b[0m         \u001b[0mnext_grad\u001b[0m \u001b[0;34m=\u001b[0m \u001b[0mgrad_f\u001b[0m\u001b[0;34m(\u001b[0m\u001b[0mx\u001b[0m \u001b[0;34m+\u001b[0m \u001b[0malpha\u001b[0m \u001b[0;34m*\u001b[0m \u001b[0mh\u001b[0m\u001b[0;34m)\u001b[0m\u001b[0;34m\u001b[0m\u001b[0;34m\u001b[0m\u001b[0m\n\u001b[1;32m     20\u001b[0m         \u001b[0mH\u001b[0m \u001b[0;34m=\u001b[0m \u001b[0mMy_update_H\u001b[0m\u001b[0;34m(\u001b[0m\u001b[0mH\u001b[0m\u001b[0;34m,\u001b[0m \u001b[0mnext_grad\u001b[0m\u001b[0;34m,\u001b[0m \u001b[0mgrad\u001b[0m\u001b[0;34m,\u001b[0m \u001b[0mx\u001b[0m \u001b[0;34m+\u001b[0m \u001b[0malpha\u001b[0m \u001b[0;34m*\u001b[0m \u001b[0mh\u001b[0m\u001b[0;34m,\u001b[0m \u001b[0mx\u001b[0m\u001b[0;34m)\u001b[0m\u001b[0;34m\u001b[0m\u001b[0;34m\u001b[0m\u001b[0m\n",
            "\u001b[0;32m/usr/local/lib/python3.7/dist-packages/liboptpy/step_size.py\u001b[0m in \u001b[0;36mget_stepsize\u001b[0;34m(self, h, x, num_iter, *args)\u001b[0m\n\u001b[1;32m     92\u001b[0m                         \u001b[0;32mbreak\u001b[0m\u001b[0;34m\u001b[0m\u001b[0;34m\u001b[0m\u001b[0m\n\u001b[1;32m     93\u001b[0m                 \u001b[0;32mif\u001b[0m \u001b[0malpha\u001b[0m \u001b[0;34m<\u001b[0m \u001b[0;36m1e-16\u001b[0m\u001b[0;34m:\u001b[0m\u001b[0;34m\u001b[0m\u001b[0;34m\u001b[0m\u001b[0m\n\u001b[0;32m---> 94\u001b[0;31m                     \u001b[0;32mraise\u001b[0m \u001b[0mValueError\u001b[0m\u001b[0;34m(\u001b[0m\u001b[0;34m\"Step size is too small!\"\u001b[0m\u001b[0;34m)\u001b[0m\u001b[0;34m\u001b[0m\u001b[0;34m\u001b[0m\u001b[0m\n\u001b[0m\u001b[1;32m     95\u001b[0m                 \u001b[0mx_next\u001b[0m \u001b[0;34m=\u001b[0m \u001b[0mself\u001b[0m\u001b[0;34m.\u001b[0m\u001b[0m_update_x_next\u001b[0m\u001b[0;34m(\u001b[0m\u001b[0mx\u001b[0m\u001b[0;34m,\u001b[0m \u001b[0malpha\u001b[0m\u001b[0;34m,\u001b[0m \u001b[0mh\u001b[0m\u001b[0;34m)\u001b[0m\u001b[0;34m\u001b[0m\u001b[0;34m\u001b[0m\u001b[0m\n\u001b[1;32m     96\u001b[0m             \u001b[0;32mreturn\u001b[0m \u001b[0malpha\u001b[0m\u001b[0;34m\u001b[0m\u001b[0;34m\u001b[0m\u001b[0m\n",
            "\u001b[0;31mValueError\u001b[0m: Step size is too small!"
          ]
        }
      ]
    },
    {
      "cell_type": "code",
      "metadata": {
        "colab": {
          "base_uri": "https://localhost:8080/",
          "height": 505
        },
        "id": "4FzISDkidz-Y",
        "outputId": "16c76b51-a01a-4472-ef1d-0c80f10b9728"
      },
      "source": [
        "x, iter, norm = My_quazi(f, grad_f, x0, 1e-7, 5000, ss.Backtracking(\"Wolfe\", rho=0.5, beta1=1e-3, beta2=0.9, init_alpha=1.), disp=True)\n",
        "print(\"Метод BFGS с правилом Вольфа выбора шага\")\n",
        "print(\"Количество итераций:\", iter)\n",
        "print(\"Норма градиента:\", norm)\n",
        "print(\"х =\", x)\n",
        "print(\"Значение функции:\", f(x), '\\n')"
      ],
      "execution_count": 50,
      "outputs": [
        {
          "output_type": "stream",
          "text": [
            "232.86768775422655\n",
            "43.8985209232249\n",
            "8.659533948443059\n",
            "1.801949209844381\n",
            "1.77689712993619\n",
            "1.7766338649972804\n",
            "1.776633743194482\n",
            "1.776633743460624\n"
          ],
          "name": "stdout"
        },
        {
          "output_type": "error",
          "ename": "KeyboardInterrupt",
          "evalue": "ignored",
          "traceback": [
            "\u001b[0;31m---------------------------------------------------------------------------\u001b[0m",
            "\u001b[0;31mKeyboardInterrupt\u001b[0m                         Traceback (most recent call last)",
            "\u001b[0;32m<ipython-input-50-6d294a89225e>\u001b[0m in \u001b[0;36m<module>\u001b[0;34m()\u001b[0m\n\u001b[0;32m----> 1\u001b[0;31m \u001b[0mx\u001b[0m\u001b[0;34m,\u001b[0m \u001b[0miter\u001b[0m\u001b[0;34m,\u001b[0m \u001b[0mnorm\u001b[0m \u001b[0;34m=\u001b[0m \u001b[0mMy_quazi\u001b[0m\u001b[0;34m(\u001b[0m\u001b[0mf\u001b[0m\u001b[0;34m,\u001b[0m \u001b[0mgrad_f\u001b[0m\u001b[0;34m,\u001b[0m \u001b[0mx0\u001b[0m\u001b[0;34m,\u001b[0m \u001b[0;36m1e-7\u001b[0m\u001b[0;34m,\u001b[0m \u001b[0;36m5000\u001b[0m\u001b[0;34m,\u001b[0m \u001b[0mss\u001b[0m\u001b[0;34m.\u001b[0m\u001b[0mBacktracking\u001b[0m\u001b[0;34m(\u001b[0m\u001b[0;34m\"Wolfe\"\u001b[0m\u001b[0;34m,\u001b[0m \u001b[0mrho\u001b[0m\u001b[0;34m=\u001b[0m\u001b[0;36m0.5\u001b[0m\u001b[0;34m,\u001b[0m \u001b[0mbeta1\u001b[0m\u001b[0;34m=\u001b[0m\u001b[0;36m1e-3\u001b[0m\u001b[0;34m,\u001b[0m \u001b[0mbeta2\u001b[0m\u001b[0;34m=\u001b[0m\u001b[0;36m0.9\u001b[0m\u001b[0;34m,\u001b[0m \u001b[0minit_alpha\u001b[0m\u001b[0;34m=\u001b[0m\u001b[0;36m1.\u001b[0m\u001b[0;34m)\u001b[0m\u001b[0;34m,\u001b[0m \u001b[0mdisp\u001b[0m\u001b[0;34m=\u001b[0m\u001b[0;32mTrue\u001b[0m\u001b[0;34m)\u001b[0m\u001b[0;34m\u001b[0m\u001b[0;34m\u001b[0m\u001b[0m\n\u001b[0m\u001b[1;32m      2\u001b[0m \u001b[0mprint\u001b[0m\u001b[0;34m(\u001b[0m\u001b[0;34m\"Метод BFGS с правилом Вольфа выбора шага\"\u001b[0m\u001b[0;34m)\u001b[0m\u001b[0;34m\u001b[0m\u001b[0;34m\u001b[0m\u001b[0m\n\u001b[1;32m      3\u001b[0m \u001b[0mprint\u001b[0m\u001b[0;34m(\u001b[0m\u001b[0;34m\"Количество итераций:\"\u001b[0m\u001b[0;34m,\u001b[0m \u001b[0miter\u001b[0m\u001b[0;34m)\u001b[0m\u001b[0;34m\u001b[0m\u001b[0;34m\u001b[0m\u001b[0m\n\u001b[1;32m      4\u001b[0m \u001b[0mprint\u001b[0m\u001b[0;34m(\u001b[0m\u001b[0;34m\"Норма градиента:\"\u001b[0m\u001b[0;34m,\u001b[0m \u001b[0mnorm\u001b[0m\u001b[0;34m)\u001b[0m\u001b[0;34m\u001b[0m\u001b[0;34m\u001b[0m\u001b[0m\n\u001b[1;32m      5\u001b[0m \u001b[0mprint\u001b[0m\u001b[0;34m(\u001b[0m\u001b[0;34m\"х =\"\u001b[0m\u001b[0;34m,\u001b[0m \u001b[0mx\u001b[0m\u001b[0;34m)\u001b[0m\u001b[0;34m\u001b[0m\u001b[0;34m\u001b[0m\u001b[0m\n",
            "\u001b[0;32m<ipython-input-38-3af253f450d4>\u001b[0m in \u001b[0;36mMy_quazi\u001b[0;34m(f, grad_f, x0, eps, max_iter, step, disp, rho_sign)\u001b[0m\n\u001b[1;32m     16\u001b[0m         \u001b[0mh\u001b[0m \u001b[0;34m=\u001b[0m \u001b[0;34m-\u001b[0m\u001b[0mH\u001b[0m\u001b[0;34m.\u001b[0m\u001b[0mdot\u001b[0m\u001b[0;34m(\u001b[0m\u001b[0mgrad\u001b[0m\u001b[0;34m)\u001b[0m\u001b[0;34m\u001b[0m\u001b[0;34m\u001b[0m\u001b[0m\n\u001b[1;32m     17\u001b[0m         \u001b[0mstep\u001b[0m\u001b[0;34m.\u001b[0m\u001b[0massign_function\u001b[0m\u001b[0;34m(\u001b[0m\u001b[0mf\u001b[0m\u001b[0;34m,\u001b[0m \u001b[0mgrad_f\u001b[0m\u001b[0;34m,\u001b[0m \u001b[0;32mlambda\u001b[0m \u001b[0mx\u001b[0m\u001b[0;34m,\u001b[0m \u001b[0malpha\u001b[0m\u001b[0;34m,\u001b[0m \u001b[0mh\u001b[0m\u001b[0;34m:\u001b[0m \u001b[0mx\u001b[0m \u001b[0;34m+\u001b[0m \u001b[0malpha\u001b[0m \u001b[0;34m*\u001b[0m \u001b[0mh\u001b[0m\u001b[0;34m)\u001b[0m\u001b[0;34m\u001b[0m\u001b[0;34m\u001b[0m\u001b[0m\n\u001b[0;32m---> 18\u001b[0;31m         \u001b[0malpha\u001b[0m \u001b[0;34m=\u001b[0m \u001b[0mstep\u001b[0m\u001b[0;34m.\u001b[0m\u001b[0mget_stepsize\u001b[0m\u001b[0;34m(\u001b[0m\u001b[0mh\u001b[0m\u001b[0;34m,\u001b[0m \u001b[0mx\u001b[0m\u001b[0;34m,\u001b[0m \u001b[0miter\u001b[0m\u001b[0;34m)\u001b[0m\u001b[0;34m\u001b[0m\u001b[0;34m\u001b[0m\u001b[0m\n\u001b[0m\u001b[1;32m     19\u001b[0m         \u001b[0mnext_grad\u001b[0m \u001b[0;34m=\u001b[0m \u001b[0mgrad_f\u001b[0m\u001b[0;34m(\u001b[0m\u001b[0mx\u001b[0m \u001b[0;34m+\u001b[0m \u001b[0malpha\u001b[0m \u001b[0;34m*\u001b[0m \u001b[0mh\u001b[0m\u001b[0;34m)\u001b[0m\u001b[0;34m\u001b[0m\u001b[0;34m\u001b[0m\u001b[0m\n\u001b[1;32m     20\u001b[0m         \u001b[0mH\u001b[0m \u001b[0;34m=\u001b[0m \u001b[0mMy_update_H\u001b[0m\u001b[0;34m(\u001b[0m\u001b[0mH\u001b[0m\u001b[0;34m,\u001b[0m \u001b[0mnext_grad\u001b[0m\u001b[0;34m,\u001b[0m \u001b[0mgrad\u001b[0m\u001b[0;34m,\u001b[0m \u001b[0mx\u001b[0m \u001b[0;34m+\u001b[0m \u001b[0malpha\u001b[0m \u001b[0;34m*\u001b[0m \u001b[0mh\u001b[0m\u001b[0;34m,\u001b[0m \u001b[0mx\u001b[0m\u001b[0;34m)\u001b[0m\u001b[0;34m\u001b[0m\u001b[0;34m\u001b[0m\u001b[0m\n",
            "\u001b[0;32m/usr/local/lib/python3.7/dist-packages/liboptpy/step_size.py\u001b[0m in \u001b[0;36mget_stepsize\u001b[0;34m(self, h, x, num_iter, *args)\u001b[0m\n\u001b[1;32m    110\u001b[0m                     \u001b[0malpha\u001b[0m \u001b[0;34m*=\u001b[0m \u001b[0mrho\u001b[0m\u001b[0;34m\u001b[0m\u001b[0;34m\u001b[0m\u001b[0m\n\u001b[1;32m    111\u001b[0m                 \u001b[0;32melse\u001b[0m\u001b[0;34m:\u001b[0m\u001b[0;34m\u001b[0m\u001b[0;34m\u001b[0m\u001b[0m\n\u001b[0;32m--> 112\u001b[0;31m                     \u001b[0;32mif\u001b[0m \u001b[0mself\u001b[0m\u001b[0;34m.\u001b[0m\u001b[0m_f\u001b[0m\u001b[0;34m(\u001b[0m\u001b[0mx\u001b[0m \u001b[0;34m+\u001b[0m \u001b[0malpha\u001b[0m \u001b[0;34m*\u001b[0m \u001b[0mh\u001b[0m\u001b[0;34m)\u001b[0m \u001b[0;34m>\u001b[0m \u001b[0mcurrent_f\u001b[0m \u001b[0;34m+\u001b[0m \u001b[0mbeta1\u001b[0m \u001b[0;34m*\u001b[0m \u001b[0malpha\u001b[0m \u001b[0;34m*\u001b[0m \u001b[0mcurrent_grad\u001b[0m\u001b[0;34m.\u001b[0m\u001b[0mdot\u001b[0m\u001b[0;34m(\u001b[0m\u001b[0mh\u001b[0m\u001b[0;34m)\u001b[0m\u001b[0;34m:\u001b[0m\u001b[0;34m\u001b[0m\u001b[0;34m\u001b[0m\u001b[0m\n\u001b[0m\u001b[1;32m    113\u001b[0m                         \u001b[0mub\u001b[0m \u001b[0;34m=\u001b[0m \u001b[0malpha\u001b[0m\u001b[0;34m\u001b[0m\u001b[0;34m\u001b[0m\u001b[0m\n\u001b[1;32m    114\u001b[0m                         \u001b[0malpha\u001b[0m \u001b[0;34m=\u001b[0m \u001b[0;36m0.5\u001b[0m \u001b[0;34m*\u001b[0m \u001b[0;34m(\u001b[0m\u001b[0mlb\u001b[0m \u001b[0;34m+\u001b[0m \u001b[0mub\u001b[0m\u001b[0;34m)\u001b[0m\u001b[0;34m\u001b[0m\u001b[0;34m\u001b[0m\u001b[0m\n",
            "\u001b[0;32m/usr/local/lib/python3.7/dist-packages/jax/interpreters/xla.py\u001b[0m in \u001b[0;36m_forward_method\u001b[0;34m(attrname, self, fun, *args)\u001b[0m\n\u001b[1;32m   1018\u001b[0m \u001b[0;34m\u001b[0m\u001b[0m\n\u001b[1;32m   1019\u001b[0m \u001b[0;32mdef\u001b[0m \u001b[0m_forward_method\u001b[0m\u001b[0;34m(\u001b[0m\u001b[0mattrname\u001b[0m\u001b[0;34m,\u001b[0m \u001b[0mself\u001b[0m\u001b[0;34m,\u001b[0m \u001b[0mfun\u001b[0m\u001b[0;34m,\u001b[0m \u001b[0;34m*\u001b[0m\u001b[0margs\u001b[0m\u001b[0;34m)\u001b[0m\u001b[0;34m:\u001b[0m\u001b[0;34m\u001b[0m\u001b[0;34m\u001b[0m\u001b[0m\n\u001b[0;32m-> 1020\u001b[0;31m   \u001b[0;32mreturn\u001b[0m \u001b[0mfun\u001b[0m\u001b[0;34m(\u001b[0m\u001b[0mgetattr\u001b[0m\u001b[0;34m(\u001b[0m\u001b[0mself\u001b[0m\u001b[0;34m,\u001b[0m \u001b[0mattrname\u001b[0m\u001b[0;34m)\u001b[0m\u001b[0;34m,\u001b[0m \u001b[0;34m*\u001b[0m\u001b[0margs\u001b[0m\u001b[0;34m)\u001b[0m\u001b[0;34m\u001b[0m\u001b[0;34m\u001b[0m\u001b[0m\n\u001b[0m\u001b[1;32m   1021\u001b[0m \u001b[0m_forward_to_value\u001b[0m \u001b[0;34m=\u001b[0m \u001b[0mpartial\u001b[0m\u001b[0;34m(\u001b[0m\u001b[0m_forward_method\u001b[0m\u001b[0;34m,\u001b[0m \u001b[0;34m\"_value\"\u001b[0m\u001b[0;34m)\u001b[0m\u001b[0;34m\u001b[0m\u001b[0;34m\u001b[0m\u001b[0m\n\u001b[1;32m   1022\u001b[0m \u001b[0;34m\u001b[0m\u001b[0m\n",
            "\u001b[0;32m/usr/local/lib/python3.7/dist-packages/jax/interpreters/xla.py\u001b[0m in \u001b[0;36m_value\u001b[0;34m(self)\u001b[0m\n\u001b[1;32m   1120\u001b[0m     \u001b[0mself\u001b[0m\u001b[0;34m.\u001b[0m\u001b[0m_check_if_deleted\u001b[0m\u001b[0;34m(\u001b[0m\u001b[0;34m)\u001b[0m\u001b[0;34m\u001b[0m\u001b[0;34m\u001b[0m\u001b[0m\n\u001b[1;32m   1121\u001b[0m     \u001b[0;32mif\u001b[0m \u001b[0mself\u001b[0m\u001b[0;34m.\u001b[0m\u001b[0m_npy_value\u001b[0m \u001b[0;32mis\u001b[0m \u001b[0;32mNone\u001b[0m\u001b[0;34m:\u001b[0m\u001b[0;34m\u001b[0m\u001b[0;34m\u001b[0m\u001b[0m\n\u001b[0;32m-> 1122\u001b[0;31m       \u001b[0mself\u001b[0m\u001b[0;34m.\u001b[0m\u001b[0m_npy_value\u001b[0m \u001b[0;34m=\u001b[0m \u001b[0m_force\u001b[0m\u001b[0;34m(\u001b[0m\u001b[0mself\u001b[0m\u001b[0;34m)\u001b[0m\u001b[0;34m.\u001b[0m\u001b[0mdevice_buffer\u001b[0m\u001b[0;34m.\u001b[0m\u001b[0mto_py\u001b[0m\u001b[0;34m(\u001b[0m\u001b[0;34m)\u001b[0m\u001b[0;34m\u001b[0m\u001b[0;34m\u001b[0m\u001b[0m\n\u001b[0m\u001b[1;32m   1123\u001b[0m       \u001b[0mself\u001b[0m\u001b[0;34m.\u001b[0m\u001b[0m_npy_value\u001b[0m\u001b[0;34m.\u001b[0m\u001b[0mflags\u001b[0m\u001b[0;34m.\u001b[0m\u001b[0mwriteable\u001b[0m \u001b[0;34m=\u001b[0m \u001b[0;32mFalse\u001b[0m\u001b[0;34m\u001b[0m\u001b[0;34m\u001b[0m\u001b[0m\n\u001b[1;32m   1124\u001b[0m     \u001b[0;32mreturn\u001b[0m \u001b[0mself\u001b[0m\u001b[0;34m.\u001b[0m\u001b[0m_npy_value\u001b[0m\u001b[0;34m\u001b[0m\u001b[0;34m\u001b[0m\u001b[0m\n",
            "\u001b[0;31mKeyboardInterrupt\u001b[0m: "
          ]
        }
      ]
    },
    {
      "cell_type": "markdown",
      "metadata": {
        "id": "ouhqoHChkdYi"
      },
      "source": [
        "Армихо потерял направление убывания аж на шестой итерации, что гораздо раньше, чем у BFGS. А вот My_quazi с методом Вольфа зациклился на 8 итерации, хотя аналогичный BFGS сошёлся с заданной точностью."
      ]
    },
    {
      "cell_type": "code",
      "metadata": {
        "colab": {
          "base_uri": "https://localhost:8080/"
        },
        "id": "BaK759PKezLd",
        "outputId": "0c1f9401-1b66-4aa1-e3f2-72437cef1bf3"
      },
      "source": [
        "x, iter, norm = My_quazi(f, grad_f, x0, 1e-7, 5000, ss.ConstantStepSize(1e-3))\n",
        "print(\"Метод My_quazi с постоянным шагом\")\n",
        "print(\"Количество итераций:\", iter)\n",
        "print(\"Норма градиента:\", norm)\n",
        "print(\"х =\", x)\n",
        "print(\"Значение функции:\", f(x))\n",
        "\n",
        "x, iter, norm = BFGS(f, grad_f, x0, 1e-7, 5000, ss.ConstantStepSize(1e-3))\n",
        "print(\"Метод BFGS с постоянным шагом\")\n",
        "print(\"Количество итераций:\", iter)\n",
        "print(\"Норма градиента:\", norm)\n",
        "print(\"х =\", x)\n",
        "print(\"Значение функции:\", f(x))"
      ],
      "execution_count": 52,
      "outputs": [
        {
          "output_type": "stream",
          "text": [
            "Метод My_quazi с постоянным шагом\n",
            "Количество итераций: 5001\n",
            "Норма градиента: 1.8274646436036992\n",
            "х = [-1.0298165   1.06946265]\n",
            "Значение функции: 4.128148509623098\n",
            "Метод BFGS с постоянным шагом\n",
            "Количество итераций: 5001\n",
            "Норма градиента: 78.4102194493805\n",
            "х = [-0.19108223 -0.32537208]\n",
            "Значение функции: 14.514715832264098\n"
          ],
          "name": "stdout"
        }
      ]
    },
    {
      "cell_type": "markdown",
      "metadata": {
        "id": "dPPnPOqZmFmO"
      },
      "source": [
        "А вот для постоянного шага оба метода сходятся примерно одинаково (одинаково плохо)."
      ]
    },
    {
      "cell_type": "code",
      "metadata": {
        "colab": {
          "base_uri": "https://localhost:8080/"
        },
        "id": "Yc8iWAz6l1GN",
        "outputId": "fba45a13-a4df-4812-8100-4dd9215e5b71"
      },
      "source": [
        "%timeit x, iter, norm = My_quazi(f, grad_f, x0, 1e-7, 100, ss.ConstantStepSize(1e-3))\n",
        "%timeit x, iter, norm = BFGS(f, grad_f, x0, 1e-7, 100, ss.ConstantStepSize(1e-3))"
      ],
      "execution_count": 54,
      "outputs": [
        {
          "output_type": "stream",
          "text": [
            "1 loop, best of 5: 347 ms per loop\n",
            "1 loop, best of 5: 599 ms per loop\n"
          ],
          "name": "stdout"
        }
      ]
    },
    {
      "cell_type": "markdown",
      "metadata": {
        "id": "1H8IL_InmpVC"
      },
      "source": [
        "Но зато My_quazi быстрее :-)"
      ]
    }
  ]
}